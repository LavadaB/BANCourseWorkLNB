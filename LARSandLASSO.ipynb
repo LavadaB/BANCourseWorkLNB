{
 "cells": [
  {
   "cell_type": "code",
   "execution_count": 2,
   "metadata": {},
   "outputs": [],
   "source": [
    "import pandas as pd\n",
    "import numpy as np\n",
    "import os\n",
    "\n",
    "from sklearn.metrics import accuracy_score\n",
    "\n",
    "import statsmodels.api as sm\n",
    "\n",
    "from sklearn.cross_decomposition import PLSRegression\n",
    "\n",
    "from sklearn.linear_model import Lars\n",
    "\n",
    "import matplotlib.pyplot as plt"
   ]
  },
  {
   "cell_type": "markdown",
   "metadata": {},
   "source": [
    "# Data Preprocessing"
   ]
  },
  {
   "cell_type": "markdown",
   "metadata": {},
   "source": [
    "Data Description"
   ]
  },
  {
   "cell_type": "code",
   "execution_count": 3,
   "metadata": {},
   "outputs": [],
   "source": [
    "data = pd.read_excel(r'ENROLLMENT_DATA_F21 (1).xlsx')"
   ]
  },
  {
   "cell_type": "code",
   "execution_count": 4,
   "metadata": {},
   "outputs": [
    {
     "name": "stdout",
     "output_type": "stream",
     "text": [
      "(4644, 35)\n"
     ]
    },
    {
     "data": {
      "text/html": [
       "<div>\n",
       "<style scoped>\n",
       "    .dataframe tbody tr th:only-of-type {\n",
       "        vertical-align: middle;\n",
       "    }\n",
       "\n",
       "    .dataframe tbody tr th {\n",
       "        vertical-align: top;\n",
       "    }\n",
       "\n",
       "    .dataframe thead th {\n",
       "        text-align: right;\n",
       "    }\n",
       "</style>\n",
       "<table border=\"1\" class=\"dataframe\">\n",
       "  <thead>\n",
       "    <tr style=\"text-align: right;\">\n",
       "      <th></th>\n",
       "      <th>Target_Enroll</th>\n",
       "      <th>avg_income</th>\n",
       "      <th>CAMPUS_VISIT</th>\n",
       "      <th>CONTACT_CODE1</th>\n",
       "      <th>Contact_Date</th>\n",
       "      <th>Contact_Month</th>\n",
       "      <th>Contact_Year</th>\n",
       "      <th>distance</th>\n",
       "      <th>ETHNICITY</th>\n",
       "      <th>hscrat</th>\n",
       "      <th>...</th>\n",
       "      <th>telecq</th>\n",
       "      <th>TERRITORY</th>\n",
       "      <th>TOTAL_CONTACTS</th>\n",
       "      <th>TRAVEL_INIT_CNTCTS</th>\n",
       "      <th>Total</th>\n",
       "      <th>AllocProportion</th>\n",
       "      <th>SampleSize</th>\n",
       "      <th>ActualProportion</th>\n",
       "      <th>SelectionProb</th>\n",
       "      <th>SamplingWeight</th>\n",
       "    </tr>\n",
       "  </thead>\n",
       "  <tbody>\n",
       "    <tr>\n",
       "      <th>0</th>\n",
       "      <td>0</td>\n",
       "      <td>NaN</td>\n",
       "      <td>0</td>\n",
       "      <td>EML</td>\n",
       "      <td>1</td>\n",
       "      <td>Sep</td>\n",
       "      <td>2012</td>\n",
       "      <td>NaN</td>\n",
       "      <td>NaN</td>\n",
       "      <td>0.037652</td>\n",
       "      <td>...</td>\n",
       "      <td>NaN</td>\n",
       "      <td>N</td>\n",
       "      <td>1</td>\n",
       "      <td>0</td>\n",
       "      <td>2580</td>\n",
       "      <td>0.5</td>\n",
       "      <td>2322</td>\n",
       "      <td>0.5</td>\n",
       "      <td>0.9</td>\n",
       "      <td>1.111111</td>\n",
       "    </tr>\n",
       "    <tr>\n",
       "      <th>1</th>\n",
       "      <td>0</td>\n",
       "      <td>NaN</td>\n",
       "      <td>0</td>\n",
       "      <td>SAT</td>\n",
       "      <td>12</td>\n",
       "      <td>Feb</td>\n",
       "      <td>2014</td>\n",
       "      <td>NaN</td>\n",
       "      <td>N</td>\n",
       "      <td>0.037652</td>\n",
       "      <td>...</td>\n",
       "      <td>NaN</td>\n",
       "      <td>N</td>\n",
       "      <td>1</td>\n",
       "      <td>0</td>\n",
       "      <td>2580</td>\n",
       "      <td>0.5</td>\n",
       "      <td>2322</td>\n",
       "      <td>0.5</td>\n",
       "      <td>0.9</td>\n",
       "      <td>1.111111</td>\n",
       "    </tr>\n",
       "    <tr>\n",
       "      <th>2</th>\n",
       "      <td>0</td>\n",
       "      <td>NaN</td>\n",
       "      <td>0</td>\n",
       "      <td>C01</td>\n",
       "      <td>16</td>\n",
       "      <td>Jan</td>\n",
       "      <td>2015</td>\n",
       "      <td>NaN</td>\n",
       "      <td>C</td>\n",
       "      <td>0.037652</td>\n",
       "      <td>...</td>\n",
       "      <td>NaN</td>\n",
       "      <td>N</td>\n",
       "      <td>1</td>\n",
       "      <td>0</td>\n",
       "      <td>2580</td>\n",
       "      <td>0.5</td>\n",
       "      <td>2322</td>\n",
       "      <td>0.5</td>\n",
       "      <td>0.9</td>\n",
       "      <td>1.111111</td>\n",
       "    </tr>\n",
       "    <tr>\n",
       "      <th>3</th>\n",
       "      <td>0</td>\n",
       "      <td>NaN</td>\n",
       "      <td>0</td>\n",
       "      <td>EML</td>\n",
       "      <td>11</td>\n",
       "      <td>Mar</td>\n",
       "      <td>2015</td>\n",
       "      <td>NaN</td>\n",
       "      <td>NaN</td>\n",
       "      <td>0.037652</td>\n",
       "      <td>...</td>\n",
       "      <td>NaN</td>\n",
       "      <td>N</td>\n",
       "      <td>1</td>\n",
       "      <td>0</td>\n",
       "      <td>2580</td>\n",
       "      <td>0.5</td>\n",
       "      <td>2322</td>\n",
       "      <td>0.5</td>\n",
       "      <td>0.9</td>\n",
       "      <td>1.111111</td>\n",
       "    </tr>\n",
       "    <tr>\n",
       "      <th>4</th>\n",
       "      <td>0</td>\n",
       "      <td>NaN</td>\n",
       "      <td>0</td>\n",
       "      <td>TFL</td>\n",
       "      <td>28</td>\n",
       "      <td>Mar</td>\n",
       "      <td>2015</td>\n",
       "      <td>NaN</td>\n",
       "      <td>B</td>\n",
       "      <td>0.037652</td>\n",
       "      <td>...</td>\n",
       "      <td>NaN</td>\n",
       "      <td>N</td>\n",
       "      <td>2</td>\n",
       "      <td>0</td>\n",
       "      <td>2580</td>\n",
       "      <td>0.5</td>\n",
       "      <td>2322</td>\n",
       "      <td>0.5</td>\n",
       "      <td>0.9</td>\n",
       "      <td>1.111111</td>\n",
       "    </tr>\n",
       "  </tbody>\n",
       "</table>\n",
       "<p>5 rows × 35 columns</p>\n",
       "</div>"
      ],
      "text/plain": [
       "   Target_Enroll  avg_income  CAMPUS_VISIT CONTACT_CODE1  Contact_Date  \\\n",
       "0              0         NaN             0           EML             1   \n",
       "1              0         NaN             0           SAT            12   \n",
       "2              0         NaN             0           C01            16   \n",
       "3              0         NaN             0           EML            11   \n",
       "4              0         NaN             0           TFL            28   \n",
       "\n",
       "  Contact_Month  Contact_Year  distance ETHNICITY    hscrat  ...  telecq  \\\n",
       "0           Sep          2012       NaN       NaN  0.037652  ...     NaN   \n",
       "1           Feb          2014       NaN         N  0.037652  ...     NaN   \n",
       "2           Jan          2015       NaN         C  0.037652  ...     NaN   \n",
       "3           Mar          2015       NaN       NaN  0.037652  ...     NaN   \n",
       "4           Mar          2015       NaN         B  0.037652  ...     NaN   \n",
       "\n",
       "   TERRITORY TOTAL_CONTACTS  TRAVEL_INIT_CNTCTS  Total  AllocProportion  \\\n",
       "0          N              1                   0   2580              0.5   \n",
       "1          N              1                   0   2580              0.5   \n",
       "2          N              1                   0   2580              0.5   \n",
       "3          N              1                   0   2580              0.5   \n",
       "4          N              2                   0   2580              0.5   \n",
       "\n",
       "  SampleSize ActualProportion  SelectionProb  SamplingWeight  \n",
       "0       2322              0.5            0.9        1.111111  \n",
       "1       2322              0.5            0.9        1.111111  \n",
       "2       2322              0.5            0.9        1.111111  \n",
       "3       2322              0.5            0.9        1.111111  \n",
       "4       2322              0.5            0.9        1.111111  \n",
       "\n",
       "[5 rows x 35 columns]"
      ]
     },
     "execution_count": 4,
     "metadata": {},
     "output_type": "execute_result"
    }
   ],
   "source": [
    "print(data.shape)\n",
    "data.head()"
   ]
  },
  {
   "cell_type": "code",
   "execution_count": 5,
   "metadata": {},
   "outputs": [
    {
     "data": {
      "text/plain": [
       "Index(['Target_Enroll', 'avg_income', 'CAMPUS_VISIT', 'CONTACT_CODE1',\n",
       "       'Contact_Date', 'Contact_Month', 'Contact_Year', 'distance',\n",
       "       'ETHNICITY', 'hscrat', 'ID', 'init_span', 'Instate', 'int1rat',\n",
       "       'int2rat', 'interest', 'IRSCHOOL', 'LEVEL_YEAR', 'mailq', 'premiere',\n",
       "       'REFERRAL_CNTCTS', 'satscore', 'SELF_INIT_CNTCTS', 'sex',\n",
       "       'SOLICITED_CNTCTS', 'telecq', 'TERRITORY', 'TOTAL_CONTACTS',\n",
       "       'TRAVEL_INIT_CNTCTS', 'Total', 'AllocProportion', 'SampleSize',\n",
       "       'ActualProportion', 'SelectionProb', 'SamplingWeight'],\n",
       "      dtype='object')"
      ]
     },
     "execution_count": 5,
     "metadata": {},
     "output_type": "execute_result"
    }
   ],
   "source": [
    "data.columns"
   ]
  },
  {
   "cell_type": "code",
   "execution_count": 6,
   "metadata": {},
   "outputs": [
    {
     "name": "stdout",
     "output_type": "stream",
     "text": [
      "<class 'pandas.core.frame.DataFrame'>\n",
      "RangeIndex: 4644 entries, 0 to 4643\n",
      "Data columns (total 35 columns):\n",
      " #   Column              Non-Null Count  Dtype  \n",
      "---  ------              --------------  -----  \n",
      " 0   Target_Enroll       4644 non-null   int64  \n",
      " 1   avg_income          3961 non-null   float64\n",
      " 2   CAMPUS_VISIT        4644 non-null   int64  \n",
      " 3   CONTACT_CODE1       4639 non-null   object \n",
      " 4   Contact_Date        4644 non-null   int64  \n",
      " 5   Contact_Month       4644 non-null   object \n",
      " 6   Contact_Year        4644 non-null   int64  \n",
      " 7   distance            4042 non-null   float64\n",
      " 8   ETHNICITY           4107 non-null   object \n",
      " 9   hscrat              4644 non-null   float64\n",
      " 10  ID                  4644 non-null   int64  \n",
      " 11  init_span           4644 non-null   int64  \n",
      " 12  Instate             4644 non-null   object \n",
      " 13  int1rat             4644 non-null   float64\n",
      " 14  int2rat             4644 non-null   float64\n",
      " 15  interest            4644 non-null   int64  \n",
      " 16  IRSCHOOL            4259 non-null   object \n",
      " 17  LEVEL_YEAR          4644 non-null   object \n",
      " 18  mailq               4644 non-null   int64  \n",
      " 19  premiere            4644 non-null   int64  \n",
      " 20  REFERRAL_CNTCTS     4644 non-null   int64  \n",
      " 21  satscore            2940 non-null   float64\n",
      " 22  SELF_INIT_CNTCTS    4644 non-null   int64  \n",
      " 23  sex                 4533 non-null   float64\n",
      " 24  SOLICITED_CNTCTS    4644 non-null   int64  \n",
      " 25  telecq              1895 non-null   float64\n",
      " 26  TERRITORY           4644 non-null   object \n",
      " 27  TOTAL_CONTACTS      4644 non-null   int64  \n",
      " 28  TRAVEL_INIT_CNTCTS  4644 non-null   int64  \n",
      " 29  Total               4644 non-null   int64  \n",
      " 30  AllocProportion     4644 non-null   float64\n",
      " 31  SampleSize          4644 non-null   int64  \n",
      " 32  ActualProportion    4644 non-null   float64\n",
      " 33  SelectionProb       4644 non-null   float64\n",
      " 34  SamplingWeight      4644 non-null   float64\n",
      "dtypes: float64(12), int64(16), object(7)\n",
      "memory usage: 1.2+ MB\n"
     ]
    }
   ],
   "source": [
    "data.info()"
   ]
  },
  {
   "cell_type": "markdown",
   "metadata": {},
   "source": [
    "Data Cleaning"
   ]
  },
  {
   "cell_type": "code",
   "execution_count": 16,
   "metadata": {},
   "outputs": [],
   "source": [
    "#remove nulls\n",
    "data2 = data.dropna()"
   ]
  },
  {
   "cell_type": "code",
   "execution_count": 17,
   "metadata": {},
   "outputs": [],
   "source": [
    "#split variables to viable inputs and target\n",
    "\n",
    "X = data2.drop(['IRSCHOOL', 'ID', 'Target_Enroll'], axis=1)\n",
    "Y = data2['Target_Enroll']"
   ]
  },
  {
   "cell_type": "code",
   "execution_count": 18,
   "metadata": {},
   "outputs": [
    {
     "name": "stdout",
     "output_type": "stream",
     "text": [
      "<class 'pandas.core.frame.DataFrame'>\n",
      "Int64Index: 1526 entries, 127 to 4639\n",
      "Data columns (total 32 columns):\n",
      " #   Column              Non-Null Count  Dtype  \n",
      "---  ------              --------------  -----  \n",
      " 0   avg_income          1526 non-null   float64\n",
      " 1   CAMPUS_VISIT        1526 non-null   int64  \n",
      " 2   CONTACT_CODE1       1526 non-null   object \n",
      " 3   Contact_Date        1526 non-null   int64  \n",
      " 4   Contact_Month       1526 non-null   object \n",
      " 5   Contact_Year        1526 non-null   int64  \n",
      " 6   distance            1526 non-null   float64\n",
      " 7   ETHNICITY           1526 non-null   object \n",
      " 8   hscrat              1526 non-null   float64\n",
      " 9   init_span           1526 non-null   int64  \n",
      " 10  Instate             1526 non-null   object \n",
      " 11  int1rat             1526 non-null   float64\n",
      " 12  int2rat             1526 non-null   float64\n",
      " 13  interest            1526 non-null   int64  \n",
      " 14  LEVEL_YEAR          1526 non-null   object \n",
      " 15  mailq               1526 non-null   int64  \n",
      " 16  premiere            1526 non-null   int64  \n",
      " 17  REFERRAL_CNTCTS     1526 non-null   int64  \n",
      " 18  satscore            1526 non-null   float64\n",
      " 19  SELF_INIT_CNTCTS    1526 non-null   int64  \n",
      " 20  sex                 1526 non-null   float64\n",
      " 21  SOLICITED_CNTCTS    1526 non-null   int64  \n",
      " 22  telecq              1526 non-null   float64\n",
      " 23  TERRITORY           1526 non-null   object \n",
      " 24  TOTAL_CONTACTS      1526 non-null   int64  \n",
      " 25  TRAVEL_INIT_CNTCTS  1526 non-null   int64  \n",
      " 26  Total               1526 non-null   int64  \n",
      " 27  AllocProportion     1526 non-null   float64\n",
      " 28  SampleSize          1526 non-null   int64  \n",
      " 29  ActualProportion    1526 non-null   float64\n",
      " 30  SelectionProb       1526 non-null   float64\n",
      " 31  SamplingWeight      1526 non-null   float64\n",
      "dtypes: float64(12), int64(14), object(6)\n",
      "memory usage: 393.4+ KB\n"
     ]
    }
   ],
   "source": [
    "X.info()"
   ]
  },
  {
   "cell_type": "code",
   "execution_count": 19,
   "metadata": {},
   "outputs": [],
   "source": [
    "#Remove all categorical variables\n",
    "\n",
    "cat_columns = X.select_dtypes(['object']).columns\n",
    "X2 = X.drop(cat_columns, axis=1)"
   ]
  },
  {
   "cell_type": "code",
   "execution_count": 20,
   "metadata": {},
   "outputs": [
    {
     "name": "stdout",
     "output_type": "stream",
     "text": [
      "<class 'pandas.core.frame.DataFrame'>\n",
      "Int64Index: 1526 entries, 127 to 4639\n",
      "Data columns (total 26 columns):\n",
      " #   Column              Non-Null Count  Dtype  \n",
      "---  ------              --------------  -----  \n",
      " 0   avg_income          1526 non-null   float64\n",
      " 1   CAMPUS_VISIT        1526 non-null   int64  \n",
      " 2   Contact_Date        1526 non-null   int64  \n",
      " 3   Contact_Year        1526 non-null   int64  \n",
      " 4   distance            1526 non-null   float64\n",
      " 5   hscrat              1526 non-null   float64\n",
      " 6   init_span           1526 non-null   int64  \n",
      " 7   int1rat             1526 non-null   float64\n",
      " 8   int2rat             1526 non-null   float64\n",
      " 9   interest            1526 non-null   int64  \n",
      " 10  mailq               1526 non-null   int64  \n",
      " 11  premiere            1526 non-null   int64  \n",
      " 12  REFERRAL_CNTCTS     1526 non-null   int64  \n",
      " 13  satscore            1526 non-null   float64\n",
      " 14  SELF_INIT_CNTCTS    1526 non-null   int64  \n",
      " 15  sex                 1526 non-null   float64\n",
      " 16  SOLICITED_CNTCTS    1526 non-null   int64  \n",
      " 17  telecq              1526 non-null   float64\n",
      " 18  TOTAL_CONTACTS      1526 non-null   int64  \n",
      " 19  TRAVEL_INIT_CNTCTS  1526 non-null   int64  \n",
      " 20  Total               1526 non-null   int64  \n",
      " 21  AllocProportion     1526 non-null   float64\n",
      " 22  SampleSize          1526 non-null   int64  \n",
      " 23  ActualProportion    1526 non-null   float64\n",
      " 24  SelectionProb       1526 non-null   float64\n",
      " 25  SamplingWeight      1526 non-null   float64\n",
      "dtypes: float64(12), int64(14)\n",
      "memory usage: 321.9 KB\n"
     ]
    }
   ],
   "source": [
    "X2.info()"
   ]
  },
  {
   "cell_type": "markdown",
   "metadata": {},
   "source": [
    "# PLS"
   ]
  },
  {
   "cell_type": "code",
   "execution_count": 22,
   "metadata": {},
   "outputs": [
    {
     "data": {
      "text/plain": [
       "array([[ 1.71842477e-02],\n",
       "       [ 3.10331697e-02],\n",
       "       [-3.03002251e-03],\n",
       "       [ 1.81258889e-02],\n",
       "       [ 1.83864385e-03],\n",
       "       [ 4.22031907e-02],\n",
       "       [-2.22593842e-02],\n",
       "       [ 1.07702344e-02],\n",
       "       [ 1.34864917e-02],\n",
       "       [ 1.32940286e-02],\n",
       "       [ 6.18752562e-03],\n",
       "       [ 3.27451017e-02],\n",
       "       [ 9.64861183e-03],\n",
       "       [ 1.82907202e-02],\n",
       "       [ 4.43581581e-02],\n",
       "       [ 8.03174544e-03],\n",
       "       [ 9.35519851e-04],\n",
       "       [-5.94993194e-02],\n",
       "       [ 3.68019076e-02],\n",
       "       [-6.97731371e-03],\n",
       "       [ 0.00000000e+00],\n",
       "       [ 0.00000000e+00],\n",
       "       [ 0.00000000e+00],\n",
       "       [ 0.00000000e+00],\n",
       "       [-3.37387217e-31],\n",
       "       [ 1.46417069e-31]])"
      ]
     },
     "execution_count": 22,
     "metadata": {},
     "output_type": "execute_result"
    }
   ],
   "source": [
    "plsr_model = PLSRegression()\n",
    "plsr_model.fit(X2,Y)\n",
    "prediction_pls = plsr_model.predict(X2)\n",
    "\n",
    "plsr_model.coef_"
   ]
  },
  {
   "cell_type": "code",
   "execution_count": 26,
   "metadata": {},
   "outputs": [
    {
     "data": {
      "image/png": "[encoded data removed]",
      "text/plain": [
       "<Figure size 432x288 with 1 Axes>"
      ]
     },
     "metadata": {
      "needs_background": "light"
     },
     "output_type": "display_data"
    }
   ],
   "source": [
    "pls_coeff = np.ravel(plsr_model.coef_)\n",
    "pls_coeff_idx = np.arange(len(pls_coeff)).reshape((len(pls_coeff),1))\n",
    "pls_coeff_sum = np.sum(np.absolute(pls_coeff))\n",
    "pls_coeff = np.absolute((pls_coeff/pls_coeff_sum) * 100).reshape((len(pls_coeff),1))\n",
    "pls_coeff_colnames = np.array(list(X2.columns)).reshape((len(list(X2.columns))),1)\n",
    "\n",
    "pls_coeff_X = np.concatenate((pls_coeff_idx, pls_coeff, pls_coeff_colnames), axis=1)\n",
    "pls_coeff_X = pls_coeff_X[pls_coeff_X[:,1].argsort()]\n",
    "\n",
    "fig=plt.figure()\n",
    "plt.bar(pls_coeff_X[:,0], pls_coeff_X[:,1])\n",
    "plt.show()"
   ]
  },
  {
   "cell_type": "code",
   "execution_count": 27,
   "metadata": {
    "scrolled": true
   },
   "outputs": [
    {
     "data": {
      "text/plain": [
       "array([['23', '0.0', 'ActualProportion'],\n",
       "       ['22', '0.0', 'SampleSize'],\n",
       "       ['21', '0.0', 'AllocProportion'],\n",
       "       ['20', '0.0', 'Total'],\n",
       "       ['16', '0.23582479464352504', 'SOLICITED_CNTCTS'],\n",
       "       ['4', '0.46348327858110344', 'distance'],\n",
       "       ['2', '0.7638046752002531', 'Contact_Date'],\n",
       "       ['10', '1.5597445187831656', 'mailq'],\n",
       "       ['19', '1.7588334144444522', 'TRAVEL_INIT_CNTCTS'],\n",
       "       ['5', '10.638532968453646', 'hscrat'],\n",
       "       ['14', '11.181754727840525', 'SELF_INIT_CNTCTS'],\n",
       "       ['17', '14.998521693457684', 'telecq'],\n",
       "       ['15', '2.024633381642486', 'sex'],\n",
       "       ['12', '2.432211247396981', 'REFERRAL_CNTCTS'],\n",
       "       ['7', '2.714948610374209', 'int1rat'],\n",
       "       ['9', '3.3511438072966797', 'interest'],\n",
       "       ['8', '3.39965970936318', 'int2rat'],\n",
       "       ['25', '3.6908650513619214e-29', 'SamplingWeight'],\n",
       "       ['0', '4.331785892495719', 'avg_income'],\n",
       "       ['3', '4.569153749666985', 'Contact_Year'],\n",
       "       ['13', '4.610704234630388', 'satscore'],\n",
       "       ['6', '5.611120597288346', 'init_span'],\n",
       "       ['1', '7.822806597957848', 'CAMPUS_VISIT'],\n",
       "       ['11', '8.254348513161052', 'premiere'],\n",
       "       ['24', '8.504819131861656e-29', 'SelectionProb'],\n",
       "       ['18', '9.27698358732177', 'TOTAL_CONTACTS']], dtype='<U32')"
      ]
     },
     "execution_count": 27,
     "metadata": {},
     "output_type": "execute_result"
    }
   ],
   "source": [
    "pls_coeff_X"
   ]
  },
  {
   "cell_type": "markdown",
   "metadata": {},
   "source": [
    "# Logistic Regression w/ PLSR"
   ]
  },
  {
   "cell_type": "code",
   "execution_count": 44,
   "metadata": {
    "scrolled": true
   },
   "outputs": [
    {
     "name": "stdout",
     "output_type": "stream",
     "text": [
      "Warning: Maximum number of iterations has been exceeded.\n",
      "         Current function value: 0.256334\n",
      "         Iterations: 35\n",
      "                                  Results: Logit\n",
      "==================================================================================\n",
      "Model:                     Logit                 Pseudo R-squared:      0.334     \n",
      "Dependent Variable:        Target_Enroll         AIC:                   822.3329  \n",
      "Date:                      2021-09-20 15:45      BIC:                   928.9410  \n",
      "No. Observations:          1526                  Log-Likelihood:        -391.17   \n",
      "Df Model:                  19                    LL-Null:               -587.00   \n",
      "Df Residuals:              1506                  LLR p-value:           2.3730e-71\n",
      "Converged:                 0.0000                Scale:                 1.0000    \n",
      "No. Iterations:            35.0000                                                \n",
      "----------------------------------------------------------------------------------\n",
      "                     Coef.     Std.Err.     z    P>|z|      [0.025       0.975]   \n",
      "----------------------------------------------------------------------------------\n",
      "avg_income           -0.0000      0.0000 -0.1173 0.9066       -0.0000       0.0000\n",
      "CAMPUS_VISIT          1.1165      0.3042  3.6701 0.0002        0.5202       1.7128\n",
      "Contact_Date          0.0003      0.0110  0.0265 0.9789       -0.0212       0.0218\n",
      "Contact_Year          0.0913      0.3231  0.2826 0.7774       -0.5419       0.7246\n",
      "distance             -0.0003      0.0005 -0.7177 0.4730       -0.0012       0.0006\n",
      "hscrat               15.0109      2.3185  6.4745 0.0000       10.4668      19.5550\n",
      "init_span            -0.0344      0.0278 -1.2381 0.2157       -0.0890       0.0201\n",
      "int1rat               4.8454      4.0529  1.1955 0.2319       -3.0981      12.7890\n",
      "int2rat               5.6587      3.3851  1.6717 0.0946       -0.9759      12.2933\n",
      "interest              0.2418      0.2210  1.0943 0.2738       -0.1913       0.6749\n",
      "mailq                 0.1083      0.0708  1.5298 0.1261       -0.0305       0.2471\n",
      "premiere              0.8325      0.2688  3.0966 0.0020        0.3056       1.3594\n",
      "REFERRAL_CNTCTS       0.4947 858046.2240  0.0000 1.0000 -1681739.2013 1681740.1908\n",
      "satscore              0.0011      0.0007  1.5471 0.1218       -0.0003       0.0025\n",
      "SELF_INIT_CNTCTS     -0.0098 858046.2240 -0.0000 1.0000 -1681739.7058 1681739.6863\n",
      "sex                   0.2929      0.1927  1.5199 0.1285       -0.0848       0.6705\n",
      "SOLICITED_CNTCTS     -0.1289 858046.2240 -0.0000 1.0000 -1681739.8249 1681739.5672\n",
      "telecq               -0.7812      0.1284 -6.0827 0.0000       -1.0329      -0.5295\n",
      "TOTAL_CONTACTS        0.3082 858046.2240  0.0000 1.0000 -1681739.3879 1681740.0042\n",
      "TRAVEL_INIT_CNTCTS   -0.0469 858046.2240 -0.0000 1.0000 -1681739.7430 1681739.6491\n",
      "SelectionProb       -81.6527         nan     nan    nan           nan          nan\n",
      "SamplingWeight     -100.8051         nan     nan    nan           nan          nan\n",
      "==================================================================================\n",
      "\n"
     ]
    },
    {
     "name": "stderr",
     "output_type": "stream",
     "text": [
      "/Users/lavadablanton/opt/anaconda3/lib/python3.8/site-packages/statsmodels/base/model.py:567: ConvergenceWarning: Maximum Likelihood optimization failed to converge. Check mle_retvals\n",
      "  warn(\"Maximum Likelihood optimization failed to converge. \"\n",
      "/Users/lavadablanton/opt/anaconda3/lib/python3.8/site-packages/statsmodels/base/model.py:1354: RuntimeWarning: invalid value encountered in sqrt\n",
      "  bse_ = np.sqrt(np.diag(self.cov_params()))\n"
     ]
    }
   ],
   "source": [
    "#Using only variables that have a coefficient > 0 \n",
    "X_pls = X2.drop(['ActualProportion', 'SampleSize', 'AllocProportion', 'Total'], axis=1)\n",
    "\n",
    "logit_model = sm.Logit(Y,X_pls)\n",
    "result=logit_model.fit()\n",
    "\n",
    "print(result.summary2())"
   ]
  },
  {
   "cell_type": "code",
   "execution_count": 45,
   "metadata": {},
   "outputs": [
    {
     "name": "stdout",
     "output_type": "stream",
     "text": [
      "1    1423\n",
      "0     103\n",
      "Name: prediction_logit_pls, dtype: int64\n",
      "Classification Accuracy0.91\n"
     ]
    },
    {
     "name": "stderr",
     "output_type": "stream",
     "text": [
      "<ipython-input-45-f4efdc4ef7d9>:3: SettingWithCopyWarning: \n",
      "A value is trying to be set on a copy of a slice from a DataFrame.\n",
      "Try using .loc[row_indexer,col_indexer] = value instead\n",
      "\n",
      "See the caveats in the documentation: https://pandas.pydata.org/pandas-docs/stable/user_guide/indexing.html#returning-a-view-versus-a-copy\n",
      "  data2['prob_logit_pls'] = result.predict(X_pls)\n",
      "<ipython-input-45-f4efdc4ef7d9>:4: SettingWithCopyWarning: \n",
      "A value is trying to be set on a copy of a slice from a DataFrame.\n",
      "Try using .loc[row_indexer,col_indexer] = value instead\n",
      "\n",
      "See the caveats in the documentation: https://pandas.pydata.org/pandas-docs/stable/user_guide/indexing.html#returning-a-view-versus-a-copy\n",
      "  data2['prediction_logit_pls']= (result.predict(X_pls)>=0.5).astype(int)\n"
     ]
    }
   ],
   "source": [
    "#Checking Accuracy\n",
    "\n",
    "data2['prob_logit_pls'] = result.predict(X_pls)\n",
    "data2['prediction_logit_pls']= (result.predict(X_pls)>=0.5).astype(int)\n",
    "\n",
    "print(data2['prediction_logit_pls'].value_counts())\n",
    "print('Classification Accuracy{}'.format(np.round(accuracy_score(Y,data2['prediction_logit_pls']), decimals=2)))"
   ]
  },
  {
   "cell_type": "markdown",
   "metadata": {},
   "source": [
    "# LARS"
   ]
  },
  {
   "cell_type": "code",
   "execution_count": 32,
   "metadata": {},
   "outputs": [
    {
     "data": {
      "text/plain": [
       "array([ 6.78773651e-07,  8.18091304e-02, -6.66673831e-05, -1.73320098e-02,\n",
       "       -6.56166308e-05,  3.66647446e-01, -5.71146176e-03,  2.97327344e-01,\n",
       "        2.76854716e-01,  2.01256797e-02,  8.15544772e-03,  7.74222024e-02,\n",
       "        3.62195033e-02,  1.39227322e-04,  9.90342973e-03,  1.74286245e-02,\n",
       "        2.31234872e-03, -1.01197679e-01,  1.32670355e-02,  0.00000000e+00,\n",
       "        0.00000000e+00,  0.00000000e+00,  0.00000000e+00,  0.00000000e+00,\n",
       "        0.00000000e+00,  0.00000000e+00])"
      ]
     },
     "execution_count": 32,
     "metadata": {},
     "output_type": "execute_result"
    }
   ],
   "source": [
    "lars_model = Lars()\n",
    "lars_model.fit(X2, Y)\n",
    "prediction_lars = lars_model.predict(X2)\n",
    "\n",
    "lars_model.coef_"
   ]
  },
  {
   "cell_type": "code",
   "execution_count": 35,
   "metadata": {},
   "outputs": [
    {
     "data": {
      "image/png": "[encoded data removed]",
      "text/plain": [
       "<Figure size 432x288 with 1 Axes>"
      ]
     },
     "metadata": {
      "needs_background": "light"
     },
     "output_type": "display_data"
    }
   ],
   "source": [
    "lars_coeff = np.ravel(lars_model.coef_)\n",
    "lars_coeff_idx = np.arange(len(lars_coeff)). reshape((len(lars_coeff),1))\n",
    "lars_coeff_sum = np.sum(np.absolute(lars_coeff))\n",
    "lars_coeff = np.absolute((lars_coeff/pls_coeff_sum)*100).reshape((len(lars_coeff),1))\n",
    "lars_coeff_colnames=np.array(list(X2.columns)).reshape((len(list(X2.columns))),1)\n",
    "\n",
    "lars_coeff_X = np.concatenate((lars_coeff_idx, lars_coeff, lars_coeff_colnames), axis=1)\n",
    "lars_coeff_X = lars_coeff_X[lars_coeff_X[:,1].argsort()]\n",
    "\n",
    "fig=plt.figure()\n",
    "plt.bar(lars_coeff_X[:,0],lars_coeff_X[:,1])\n",
    "plt.show()"
   ]
  },
  {
   "cell_type": "code",
   "execution_count": 36,
   "metadata": {
    "scrolled": true
   },
   "outputs": [
    {
     "data": {
      "text/plain": [
       "array([['25', '0.0', 'SamplingWeight'],\n",
       "       ['23', '0.0', 'ActualProportion'],\n",
       "       ['22', '0.0', 'SampleSize'],\n",
       "       ['21', '0.0', 'AllocProportion'],\n",
       "       ['20', '0.0', 'Total'],\n",
       "       ['19', '0.0', 'TRAVEL_INIT_CNTCTS'],\n",
       "       ['24', '0.0', 'SelectionProb'],\n",
       "       ['0', '0.00017110450052108987', 'avg_income'],\n",
       "       ['4', '0.016540566692418872', 'distance'],\n",
       "       ['2', '0.016805439159573277', 'Contact_Date'],\n",
       "       ['13', '0.03509626716406202', 'satscore'],\n",
       "       ['16', '0.5828942714876346', 'SOLICITED_CNTCTS'],\n",
       "       ['6', '1.4397388731871419', 'init_span'],\n",
       "       ['11', '19.516501937101356', 'premiere'],\n",
       "       ['10', '2.0558161129161983', 'mailq'],\n",
       "       ['14', '2.4964454577635746', 'SELF_INIT_CNTCTS'],\n",
       "       ['1', '20.622353821540564', 'CAMPUS_VISIT'],\n",
       "       ['17', '25.509797369997138', 'telecq'],\n",
       "       ['18', '3.3443394302932465', 'TOTAL_CONTACTS'],\n",
       "       ['3', '4.3690335833012846', 'Contact_Year'],\n",
       "       ['15', '4.393388112115155', 'sex'],\n",
       "       ['9', '5.073258772634677', 'interest'],\n",
       "       ['8', '69.78922619337776', 'int2rat'],\n",
       "       ['7', '74.94994338110513', 'int1rat'],\n",
       "       ['12', '9.13017175698481', 'REFERRAL_CNTCTS'],\n",
       "       ['5', '92.42407697743386', 'hscrat']], dtype='<U32')"
      ]
     },
     "execution_count": 36,
     "metadata": {},
     "output_type": "execute_result"
    }
   ],
   "source": [
    "lars_coeff_X"
   ]
  },
  {
   "cell_type": "markdown",
   "metadata": {},
   "source": [
    "# Logistic Regression w/ LARS"
   ]
  },
  {
   "cell_type": "code",
   "execution_count": 37,
   "metadata": {},
   "outputs": [
    {
     "name": "stdout",
     "output_type": "stream",
     "text": [
      "Optimization terminated successfully.\n",
      "         Current function value: 0.256361\n",
      "         Iterations 9\n",
      "                         Results: Logit\n",
      "=================================================================\n",
      "Model:              Logit            Pseudo R-squared: 0.334     \n",
      "Dependent Variable: Target_Enroll    AIC:              820.4140  \n",
      "Date:               2021-09-20 15:34 BIC:              921.6917  \n",
      "No. Observations:   1526             Log-Likelihood:   -391.21   \n",
      "Df Model:           18               LL-Null:          -587.00   \n",
      "Df Residuals:       1507             LLR p-value:      5.2024e-72\n",
      "Converged:          1.0000           Scale:            1.0000    \n",
      "No. Iterations:     9.0000                                       \n",
      "-----------------------------------------------------------------\n",
      "                   Coef.  Std.Err.    z    P>|z|   [0.025  0.975]\n",
      "-----------------------------------------------------------------\n",
      "avg_income        -0.0000   0.0000 -0.1326 0.8945 -0.0000  0.0000\n",
      "CAMPUS_VISIT       1.1119   0.3036  3.6618 0.0003  0.5167  1.7070\n",
      "Contact_Date       0.0006   0.0109  0.0519 0.9586 -0.0209  0.0220\n",
      "Contact_Year      -0.0007   0.0005 -1.4072 0.1594 -0.0016  0.0003\n",
      "distance          -0.0003   0.0005 -0.7174 0.4731 -0.0012  0.0006\n",
      "hscrat            14.9788   2.3136  6.4742 0.0000 10.4442 19.5134\n",
      "init_span         -0.0415   0.0125 -3.3150 0.0009 -0.0661 -0.0170\n",
      "int1rat            4.8278   4.0439  1.1939 0.2325 -3.0980 12.7537\n",
      "int2rat            5.6190   3.3809  1.6620 0.0965 -1.0075 12.2455\n",
      "interest           0.2404   0.2210  1.0879 0.2767 -0.1927  0.6735\n",
      "mailq              0.1083   0.0708  1.5297 0.1261 -0.0304  0.2470\n",
      "premiere           0.8311   0.2688  3.0916 0.0020  0.3042  1.3579\n",
      "REFERRAL_CNTCTS    0.5523   0.3920  1.4091 0.1588 -0.2159  1.3205\n",
      "satscore           0.0011   0.0007  1.5647 0.1176 -0.0003  0.0025\n",
      "SELF_INIT_CNTCTS   0.0469   0.1653  0.2839 0.7765 -0.2770  0.3708\n",
      "sex                0.2910   0.1925  1.5113 0.1307 -0.0864  0.6683\n",
      "SOLICITED_CNTCTS  -0.0650   0.1983 -0.3275 0.7433 -0.4536  0.3237\n",
      "telecq            -0.7810   0.1284 -6.0819 0.0000 -1.0327 -0.5293\n",
      "TOTAL_CONTACTS     0.2517   0.1582  1.5906 0.1117 -0.0585  0.5618\n",
      "=================================================================\n",
      "\n"
     ]
    }
   ],
   "source": [
    "#Using only variables that have a coefficient > 0 \n",
    "X_lars = X2.drop(['SamplingWeight', 'ActualProportion', 'SampleSize', 'AllocProportion', 'Total', 'TRAVEL_INIT_CNTCTS', 'SelectionProb'], axis=1)\n",
    "\n",
    "logit_model = sm.Logit(Y,X_lars)\n",
    "result=logit_model.fit()\n",
    "\n",
    "print(result.summary2())"
   ]
  },
  {
   "cell_type": "code",
   "execution_count": 41,
   "metadata": {},
   "outputs": [
    {
     "name": "stdout",
     "output_type": "stream",
     "text": [
      "1    1423\n",
      "0     103\n",
      "Name: prediction_logit_lars, dtype: int64\n",
      "Classification Accuracy0.91\n"
     ]
    },
    {
     "name": "stderr",
     "output_type": "stream",
     "text": [
      "<ipython-input-41-674cb91b9195>:3: SettingWithCopyWarning: \n",
      "A value is trying to be set on a copy of a slice from a DataFrame.\n",
      "Try using .loc[row_indexer,col_indexer] = value instead\n",
      "\n",
      "See the caveats in the documentation: https://pandas.pydata.org/pandas-docs/stable/user_guide/indexing.html#returning-a-view-versus-a-copy\n",
      "  data2['prob_log_lars'] = result.predict(X_lars)\n",
      "<ipython-input-41-674cb91b9195>:4: SettingWithCopyWarning: \n",
      "A value is trying to be set on a copy of a slice from a DataFrame.\n",
      "Try using .loc[row_indexer,col_indexer] = value instead\n",
      "\n",
      "See the caveats in the documentation: https://pandas.pydata.org/pandas-docs/stable/user_guide/indexing.html#returning-a-view-versus-a-copy\n",
      "  data2['prediction_logit_lars']= (result.predict(X_lars)>=0.5).astype(int)\n"
     ]
    }
   ],
   "source": [
    "#Checking Accuracy\n",
    "\n",
    "data2['prob_log_lars'] = result.predict(X_lars)\n",
    "data2['prediction_logit_lars']= (result.predict(X_lars)>=0.5).astype(int)\n",
    "\n",
    "print(data2['prediction_logit_lars'].value_counts())\n",
    "print('Classification Accuracy{}'.format(np.round(accuracy_score(Y,data2['prediction_logit_lars']), decimals=2)))"
   ]
  },
  {
   "cell_type": "code",
   "execution_count": null,
   "metadata": {},
   "outputs": [],
   "source": []
  }
 ],
 "metadata": {
  "kernelspec": {
   "display_name": "Python 3",
   "language": "python",
   "name": "python3"
  },
  "language_info": {
   "codemirror_mode": {
    "name": "ipython",
    "version": 3
   },
   "file_extension": ".py",
   "mimetype": "text/x-python",
   "name": "python",
   "nbconvert_exporter": "python",
   "pygments_lexer": "ipython3",
   "version": "3.8.3"
  }
 },
 "nbformat": 4,
 "nbformat_minor": 4
}
