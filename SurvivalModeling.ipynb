{
 "cells": [
  {
   "cell_type": "code",
   "execution_count": 1,
   "metadata": {},
   "outputs": [],
   "source": [
    "import numpy as np\n",
    "import pandas as pd\n",
    "import saspy \n",
    "import matplotlib.pyplot as plt\n",
    "\n",
    "from sklearn.impute import SimpleImputer\n",
    "\n",
    "from lifelines import KaplanMeierFitter\n",
    "from lifelines import NelsonAalenFitter"
   ]
  },
  {
   "cell_type": "markdown",
   "metadata": {},
   "source": [
    "# Import Data"
   ]
  },
  {
   "cell_type": "code",
   "execution_count": 2,
   "metadata": {},
   "outputs": [],
   "source": [
    "data = pd.read_excel(r'Mortgage.xlsx')"
   ]
  },
  {
   "cell_type": "markdown",
   "metadata": {},
   "source": [
    "# Data Description"
   ]
  },
  {
   "cell_type": "code",
   "execution_count": 3,
   "metadata": {},
   "outputs": [
    {
     "data": {
      "text/html": [
       "<div>\n",
       "<style scoped>\n",
       "    .dataframe tbody tr th:only-of-type {\n",
       "        vertical-align: middle;\n",
       "    }\n",
       "\n",
       "    .dataframe tbody tr th {\n",
       "        vertical-align: top;\n",
       "    }\n",
       "\n",
       "    .dataframe thead th {\n",
       "        text-align: right;\n",
       "    }\n",
       "</style>\n",
       "<table border=\"1\" class=\"dataframe\">\n",
       "  <thead>\n",
       "    <tr style=\"text-align: right;\">\n",
       "      <th></th>\n",
       "      <th>event</th>\n",
       "      <th>ID</th>\n",
       "      <th>default</th>\n",
       "      <th>Prepayment</th>\n",
       "      <th>vintage</th>\n",
       "      <th>cred_score</th>\n",
       "      <th>DBT_RATIO</th>\n",
       "      <th>start_date</th>\n",
       "      <th>end_date</th>\n",
       "      <th>event_time</th>\n",
       "    </tr>\n",
       "  </thead>\n",
       "  <tbody>\n",
       "    <tr>\n",
       "      <th>0</th>\n",
       "      <td>2</td>\n",
       "      <td>1201510415699000</td>\n",
       "      <td>0</td>\n",
       "      <td>1</td>\n",
       "      <td>2005</td>\n",
       "      <td>757.0</td>\n",
       "      <td>0.43</td>\n",
       "      <td>2005-12-01</td>\n",
       "      <td>2006-01-01</td>\n",
       "      <td>31</td>\n",
       "    </tr>\n",
       "    <tr>\n",
       "      <th>1</th>\n",
       "      <td>2</td>\n",
       "      <td>1201510419849000</td>\n",
       "      <td>0</td>\n",
       "      <td>1</td>\n",
       "      <td>2005</td>\n",
       "      <td>757.0</td>\n",
       "      <td>0.44</td>\n",
       "      <td>2005-12-01</td>\n",
       "      <td>2006-01-01</td>\n",
       "      <td>31</td>\n",
       "    </tr>\n",
       "    <tr>\n",
       "      <th>2</th>\n",
       "      <td>2</td>\n",
       "      <td>1201517819379000</td>\n",
       "      <td>0</td>\n",
       "      <td>1</td>\n",
       "      <td>2005</td>\n",
       "      <td>784.0</td>\n",
       "      <td>0.36</td>\n",
       "      <td>2005-12-01</td>\n",
       "      <td>2006-01-01</td>\n",
       "      <td>31</td>\n",
       "    </tr>\n",
       "    <tr>\n",
       "      <th>3</th>\n",
       "      <td>2</td>\n",
       "      <td>1201518749199000</td>\n",
       "      <td>0</td>\n",
       "      <td>1</td>\n",
       "      <td>2005</td>\n",
       "      <td>618.0</td>\n",
       "      <td>0.30</td>\n",
       "      <td>2005-12-01</td>\n",
       "      <td>2006-01-01</td>\n",
       "      <td>31</td>\n",
       "    </tr>\n",
       "    <tr>\n",
       "      <th>4</th>\n",
       "      <td>2</td>\n",
       "      <td>1201519183129000</td>\n",
       "      <td>0</td>\n",
       "      <td>1</td>\n",
       "      <td>2005</td>\n",
       "      <td>730.0</td>\n",
       "      <td>0.25</td>\n",
       "      <td>2005-12-01</td>\n",
       "      <td>2006-01-01</td>\n",
       "      <td>31</td>\n",
       "    </tr>\n",
       "  </tbody>\n",
       "</table>\n",
       "</div>"
      ],
      "text/plain": [
       "   event                ID  default  Prepayment  vintage  cred_score  \\\n",
       "0      2  1201510415699000        0           1     2005       757.0   \n",
       "1      2  1201510419849000        0           1     2005       757.0   \n",
       "2      2  1201517819379000        0           1     2005       784.0   \n",
       "3      2  1201518749199000        0           1     2005       618.0   \n",
       "4      2  1201519183129000        0           1     2005       730.0   \n",
       "\n",
       "   DBT_RATIO start_date   end_date  event_time  \n",
       "0       0.43 2005-12-01 2006-01-01          31  \n",
       "1       0.44 2005-12-01 2006-01-01          31  \n",
       "2       0.36 2005-12-01 2006-01-01          31  \n",
       "3       0.30 2005-12-01 2006-01-01          31  \n",
       "4       0.25 2005-12-01 2006-01-01          31  "
      ]
     },
     "execution_count": 3,
     "metadata": {},
     "output_type": "execute_result"
    }
   ],
   "source": [
    "data.head()"
   ]
  },
  {
   "cell_type": "code",
   "execution_count": 4,
   "metadata": {},
   "outputs": [
    {
     "data": {
      "text/plain": [
       "Index(['event', 'ID', 'default', 'Prepayment', 'vintage', 'cred_score',\n",
       "       'DBT_RATIO', 'start_date', 'end_date', 'event_time'],\n",
       "      dtype='object')"
      ]
     },
     "execution_count": 4,
     "metadata": {},
     "output_type": "execute_result"
    }
   ],
   "source": [
    "data.columns"
   ]
  },
  {
   "cell_type": "code",
   "execution_count": 5,
   "metadata": {},
   "outputs": [
    {
     "name": "stdout",
     "output_type": "stream",
     "text": [
      "<class 'pandas.core.frame.DataFrame'>\n",
      "RangeIndex: 1023 entries, 0 to 1022\n",
      "Data columns (total 10 columns):\n",
      " #   Column      Non-Null Count  Dtype         \n",
      "---  ------      --------------  -----         \n",
      " 0   event       1023 non-null   int64         \n",
      " 1   ID          1023 non-null   int64         \n",
      " 2   default     1023 non-null   int64         \n",
      " 3   Prepayment  1023 non-null   int64         \n",
      " 4   vintage     1023 non-null   int64         \n",
      " 5   cred_score  1007 non-null   float64       \n",
      " 6   DBT_RATIO   1020 non-null   float64       \n",
      " 7   start_date  1023 non-null   datetime64[ns]\n",
      " 8   end_date    1023 non-null   datetime64[ns]\n",
      " 9   event_time  1023 non-null   int64         \n",
      "dtypes: datetime64[ns](2), float64(2), int64(6)\n",
      "memory usage: 80.0 KB\n"
     ]
    }
   ],
   "source": [
    "data.info()"
   ]
  },
  {
   "cell_type": "code",
   "execution_count": 6,
   "metadata": {},
   "outputs": [],
   "source": [
    "#Drop values that are not used in this model. \n",
    "df1 = data.drop(['default', 'Prepayment', \"ID\"], axis=1)"
   ]
  },
  {
   "cell_type": "code",
   "execution_count": 7,
   "metadata": {},
   "outputs": [
    {
     "data": {
      "text/html": [
       "<div>\n",
       "<style scoped>\n",
       "    .dataframe tbody tr th:only-of-type {\n",
       "        vertical-align: middle;\n",
       "    }\n",
       "\n",
       "    .dataframe tbody tr th {\n",
       "        vertical-align: top;\n",
       "    }\n",
       "\n",
       "    .dataframe thead th {\n",
       "        text-align: right;\n",
       "    }\n",
       "</style>\n",
       "<table border=\"1\" class=\"dataframe\">\n",
       "  <thead>\n",
       "    <tr style=\"text-align: right;\">\n",
       "      <th></th>\n",
       "      <th>event</th>\n",
       "      <th>vintage</th>\n",
       "      <th>cred_score</th>\n",
       "      <th>DBT_RATIO</th>\n",
       "      <th>start_date</th>\n",
       "      <th>end_date</th>\n",
       "      <th>event_time</th>\n",
       "    </tr>\n",
       "  </thead>\n",
       "  <tbody>\n",
       "    <tr>\n",
       "      <th>0</th>\n",
       "      <td>2</td>\n",
       "      <td>2005</td>\n",
       "      <td>757.0</td>\n",
       "      <td>0.43</td>\n",
       "      <td>2005-12-01</td>\n",
       "      <td>2006-01-01</td>\n",
       "      <td>31</td>\n",
       "    </tr>\n",
       "    <tr>\n",
       "      <th>1</th>\n",
       "      <td>2</td>\n",
       "      <td>2005</td>\n",
       "      <td>757.0</td>\n",
       "      <td>0.44</td>\n",
       "      <td>2005-12-01</td>\n",
       "      <td>2006-01-01</td>\n",
       "      <td>31</td>\n",
       "    </tr>\n",
       "    <tr>\n",
       "      <th>2</th>\n",
       "      <td>2</td>\n",
       "      <td>2005</td>\n",
       "      <td>784.0</td>\n",
       "      <td>0.36</td>\n",
       "      <td>2005-12-01</td>\n",
       "      <td>2006-01-01</td>\n",
       "      <td>31</td>\n",
       "    </tr>\n",
       "    <tr>\n",
       "      <th>3</th>\n",
       "      <td>2</td>\n",
       "      <td>2005</td>\n",
       "      <td>618.0</td>\n",
       "      <td>0.30</td>\n",
       "      <td>2005-12-01</td>\n",
       "      <td>2006-01-01</td>\n",
       "      <td>31</td>\n",
       "    </tr>\n",
       "    <tr>\n",
       "      <th>4</th>\n",
       "      <td>2</td>\n",
       "      <td>2005</td>\n",
       "      <td>730.0</td>\n",
       "      <td>0.25</td>\n",
       "      <td>2005-12-01</td>\n",
       "      <td>2006-01-01</td>\n",
       "      <td>31</td>\n",
       "    </tr>\n",
       "  </tbody>\n",
       "</table>\n",
       "</div>"
      ],
      "text/plain": [
       "   event  vintage  cred_score  DBT_RATIO start_date   end_date  event_time\n",
       "0      2     2005       757.0       0.43 2005-12-01 2006-01-01          31\n",
       "1      2     2005       757.0       0.44 2005-12-01 2006-01-01          31\n",
       "2      2     2005       784.0       0.36 2005-12-01 2006-01-01          31\n",
       "3      2     2005       618.0       0.30 2005-12-01 2006-01-01          31\n",
       "4      2     2005       730.0       0.25 2005-12-01 2006-01-01          31"
      ]
     },
     "execution_count": 7,
     "metadata": {},
     "output_type": "execute_result"
    }
   ],
   "source": [
    "df1.head()"
   ]
  },
  {
   "cell_type": "code",
   "execution_count": 8,
   "metadata": {},
   "outputs": [
    {
     "name": "stdout",
     "output_type": "stream",
     "text": [
      "<class 'pandas.core.frame.DataFrame'>\n",
      "RangeIndex: 1023 entries, 0 to 1022\n",
      "Data columns (total 7 columns):\n",
      " #   Column      Non-Null Count  Dtype         \n",
      "---  ------      --------------  -----         \n",
      " 0   event       1023 non-null   int64         \n",
      " 1   vintage     1023 non-null   int64         \n",
      " 2   cred_score  1007 non-null   float64       \n",
      " 3   DBT_RATIO   1020 non-null   float64       \n",
      " 4   start_date  1023 non-null   datetime64[ns]\n",
      " 5   end_date    1023 non-null   datetime64[ns]\n",
      " 6   event_time  1023 non-null   int64         \n",
      "dtypes: datetime64[ns](2), float64(2), int64(3)\n",
      "memory usage: 56.1 KB\n"
     ]
    }
   ],
   "source": [
    "df1.info()"
   ]
  },
  {
   "cell_type": "markdown",
   "metadata": {},
   "source": [
    "# Data Preprocessing"
   ]
  },
  {
   "cell_type": "code",
   "execution_count": 9,
   "metadata": {},
   "outputs": [
    {
     "data": {
      "text/plain": [
       "event          0\n",
       "vintage        0\n",
       "cred_score    16\n",
       "DBT_RATIO      3\n",
       "start_date     0\n",
       "end_date       0\n",
       "event_time     0\n",
       "dtype: int64"
      ]
     },
     "execution_count": 9,
     "metadata": {},
     "output_type": "execute_result"
    }
   ],
   "source": [
    "#Check for missing values\n",
    "\n",
    "df1.isnull().sum()"
   ]
  },
  {
   "cell_type": "code",
   "execution_count": 10,
   "metadata": {},
   "outputs": [],
   "source": [
    "#imputting missing values\n",
    "for i in df1.columns:\n",
    "    if df1[i].dtype ==\"float64\":\n",
    "        df1[i].fillna(df1[i].mean(), inplace=True)\n",
    "    else:\n",
    "        df1[i].fillna(df1[i].mode(), inplace=True)   "
   ]
  },
  {
   "cell_type": "code",
   "execution_count": 11,
   "metadata": {},
   "outputs": [
    {
     "data": {
      "text/plain": [
       "event         0\n",
       "vintage       0\n",
       "cred_score    0\n",
       "DBT_RATIO     0\n",
       "start_date    0\n",
       "end_date      0\n",
       "event_time    0\n",
       "dtype: int64"
      ]
     },
     "execution_count": 11,
     "metadata": {},
     "output_type": "execute_result"
    }
   ],
   "source": [
    "df1.isnull().sum()"
   ]
  },
  {
   "cell_type": "code",
   "execution_count": 12,
   "metadata": {},
   "outputs": [],
   "source": [
    "for i in df1.columns:\n",
    "    if df1[i].dtype == 'object':\n",
    "        df1[i] = df1[i].str.decode('utf-8')"
   ]
  },
  {
   "cell_type": "code",
   "execution_count": 13,
   "metadata": {},
   "outputs": [
    {
     "name": "stdout",
     "output_type": "stream",
     "text": [
      "event\n",
      "2    605\n",
      "0    246\n",
      "1    172\n",
      "Name: event, dtype: int64\n",
      "\n",
      "\n",
      "vintage\n",
      "2005    196\n",
      "2006    180\n",
      "2004    153\n",
      "2007    149\n",
      "2003     91\n",
      "2008     55\n",
      "2002     44\n",
      "2001     35\n",
      "2000     24\n",
      "2009     23\n",
      "1998     15\n",
      "1999     13\n",
      "1996     10\n",
      "2010      9\n",
      "2011      8\n",
      "2012      7\n",
      "1997      4\n",
      "1994      4\n",
      "1991      2\n",
      "1995      1\n",
      "Name: vintage, dtype: int64\n",
      "\n",
      "\n",
      "cred_score\n",
      "723.878848    16\n",
      "718.000000    14\n",
      "801.000000    13\n",
      "775.000000    12\n",
      "802.000000    12\n",
      "              ..\n",
      "624.000000     1\n",
      "580.000000     1\n",
      "583.000000     1\n",
      "633.000000     1\n",
      "563.000000     1\n",
      "Name: cred_score, Length: 217, dtype: int64\n",
      "\n",
      "\n",
      "DBT_RATIO\n",
      "0.24    42\n",
      "0.25    36\n",
      "0.30    36\n",
      "0.29    36\n",
      "0.37    33\n",
      "        ..\n",
      "0.59     1\n",
      "0.70     1\n",
      "0.64     1\n",
      "0.58     1\n",
      "1.08     1\n",
      "Name: DBT_RATIO, Length: 71, dtype: int64\n",
      "\n",
      "\n",
      "start_date\n",
      "2005-12-01    586\n",
      "2007-05-01     25\n",
      "2006-08-01     20\n",
      "2006-06-01     20\n",
      "2007-08-01     20\n",
      "             ... \n",
      "2009-02-01      1\n",
      "2010-06-01      1\n",
      "2012-09-01      1\n",
      "2009-08-01      1\n",
      "2009-10-01      1\n",
      "Name: start_date, Length: 62, dtype: int64\n",
      "\n",
      "\n",
      "end_date\n",
      "2012-12-01    246\n",
      "2006-01-01    108\n",
      "2009-06-01     27\n",
      "2006-04-01     15\n",
      "2009-08-01     15\n",
      "             ... \n",
      "2012-06-01      2\n",
      "2011-06-01      2\n",
      "2012-07-01      2\n",
      "2010-04-01      1\n",
      "2012-09-01      1\n",
      "Name: end_date, Length: 82, dtype: int64\n",
      "\n",
      "\n"
     ]
    }
   ],
   "source": [
    "for i in range (df1.shape[1]-1):\n",
    "    print(df1.columns[i])\n",
    "    print(df1.iloc[:,i].value_counts())\n",
    "    print(\"\\n\")"
   ]
  },
  {
   "cell_type": "code",
   "execution_count": 14,
   "metadata": {},
   "outputs": [],
   "source": [
    "#This is where I would normally make dummy values for characters but there are none in this dataset. "
   ]
  },
  {
   "cell_type": "code",
   "execution_count": 15,
   "metadata": {},
   "outputs": [
    {
     "data": {
      "text/html": [
       "<div>\n",
       "<style scoped>\n",
       "    .dataframe tbody tr th:only-of-type {\n",
       "        vertical-align: middle;\n",
       "    }\n",
       "\n",
       "    .dataframe tbody tr th {\n",
       "        vertical-align: top;\n",
       "    }\n",
       "\n",
       "    .dataframe thead th {\n",
       "        text-align: right;\n",
       "    }\n",
       "</style>\n",
       "<table border=\"1\" class=\"dataframe\">\n",
       "  <thead>\n",
       "    <tr style=\"text-align: right;\">\n",
       "      <th></th>\n",
       "      <th>event</th>\n",
       "      <th>vintage</th>\n",
       "      <th>cred_score</th>\n",
       "      <th>DBT_RATIO</th>\n",
       "      <th>start_date</th>\n",
       "      <th>end_date</th>\n",
       "      <th>event_time</th>\n",
       "    </tr>\n",
       "  </thead>\n",
       "  <tbody>\n",
       "    <tr>\n",
       "      <th>0</th>\n",
       "      <td>2</td>\n",
       "      <td>2005</td>\n",
       "      <td>757.0</td>\n",
       "      <td>0.43</td>\n",
       "      <td>2005-12-01</td>\n",
       "      <td>2006-01-01</td>\n",
       "      <td>31</td>\n",
       "    </tr>\n",
       "    <tr>\n",
       "      <th>1</th>\n",
       "      <td>2</td>\n",
       "      <td>2005</td>\n",
       "      <td>757.0</td>\n",
       "      <td>0.44</td>\n",
       "      <td>2005-12-01</td>\n",
       "      <td>2006-01-01</td>\n",
       "      <td>31</td>\n",
       "    </tr>\n",
       "    <tr>\n",
       "      <th>2</th>\n",
       "      <td>2</td>\n",
       "      <td>2005</td>\n",
       "      <td>784.0</td>\n",
       "      <td>0.36</td>\n",
       "      <td>2005-12-01</td>\n",
       "      <td>2006-01-01</td>\n",
       "      <td>31</td>\n",
       "    </tr>\n",
       "    <tr>\n",
       "      <th>3</th>\n",
       "      <td>2</td>\n",
       "      <td>2005</td>\n",
       "      <td>618.0</td>\n",
       "      <td>0.30</td>\n",
       "      <td>2005-12-01</td>\n",
       "      <td>2006-01-01</td>\n",
       "      <td>31</td>\n",
       "    </tr>\n",
       "    <tr>\n",
       "      <th>4</th>\n",
       "      <td>2</td>\n",
       "      <td>2005</td>\n",
       "      <td>730.0</td>\n",
       "      <td>0.25</td>\n",
       "      <td>2005-12-01</td>\n",
       "      <td>2006-01-01</td>\n",
       "      <td>31</td>\n",
       "    </tr>\n",
       "  </tbody>\n",
       "</table>\n",
       "</div>"
      ],
      "text/plain": [
       "   event  vintage  cred_score  DBT_RATIO start_date   end_date  event_time\n",
       "0      2     2005       757.0       0.43 2005-12-01 2006-01-01          31\n",
       "1      2     2005       757.0       0.44 2005-12-01 2006-01-01          31\n",
       "2      2     2005       784.0       0.36 2005-12-01 2006-01-01          31\n",
       "3      2     2005       618.0       0.30 2005-12-01 2006-01-01          31\n",
       "4      2     2005       730.0       0.25 2005-12-01 2006-01-01          31"
      ]
     },
     "execution_count": 15,
     "metadata": {},
     "output_type": "execute_result"
    }
   ],
   "source": [
    "df1.head()"
   ]
  },
  {
   "cell_type": "markdown",
   "metadata": {},
   "source": [
    "# Survival Modeling"
   ]
  },
  {
   "cell_type": "code",
   "execution_count": 16,
   "metadata": {},
   "outputs": [],
   "source": [
    "###### This program would not fully run on my kernel. \n",
    "#km = KaplanMeierFitter()\n",
    "#km.fit(df1.event_time, df1.event, label = \"Kaplein Meier Estimate\")"
   ]
  },
  {
   "cell_type": "markdown",
   "metadata": {},
   "source": [
    "# Hazard Modeling"
   ]
  },
  {
   "cell_type": "code",
   "execution_count": 1,
   "metadata": {},
   "outputs": [],
   "source": [
    "#### This program would not fully run on my kernel. \n",
    "#hf = NelsonAalenFitter()\n",
    "\n",
    "#hf.fit(df1.event_time, event_observed = df1.event)"
   ]
  },
  {
   "cell_type": "code",
   "execution_count": null,
   "metadata": {},
   "outputs": [],
   "source": []
  }
 ],
 "metadata": {
  "kernelspec": {
   "display_name": "Python 3",
   "language": "python",
   "name": "python3"
  },
  "language_info": {
   "codemirror_mode": {
    "name": "ipython",
    "version": 3
   },
   "file_extension": ".py",
   "mimetype": "text/x-python",
   "name": "python",
   "nbconvert_exporter": "python",
   "pygments_lexer": "ipython3",
   "version": "3.8.3"
  }
 },
 "nbformat": 4,
 "nbformat_minor": 4
}
