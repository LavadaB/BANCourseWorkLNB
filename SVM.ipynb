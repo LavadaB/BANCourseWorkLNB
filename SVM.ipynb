{
 "cells": [
  {
   "cell_type": "code",
   "execution_count": 1,
   "metadata": {},
   "outputs": [],
   "source": [
    "import numpy as np\n",
    "import pandas as pd\n",
    "import matplotlib as plt\n",
    "\n",
    "from sklearn.impute import SimpleImputer\n",
    "from sklearn.linear_model import LogisticRegression\n",
    "from sklearn.tree import DecisionTreeClassifier\n",
    "from sklearn.svm import SVC\n",
    "from sklearn.ensemble import GradientBoostingClassifier\n",
    "from sklearn.ensemble import RandomForestClassifier\n",
    "from sklearn.model_selection import train_test_split\n",
    "from sklearn.feature_selection import RFE\n",
    "from sklearn.metrics import roc_curve\n",
    "from sklearn.metrics import accuracy_score\n",
    "\n",
    "import statsmodels.api as sm\n",
    "\n",
    "np.random.seed(12345)\n",
    "\n",
    "import warnings\n",
    "warnings.simplefilter(action='ignore', category=FutureWarning)"
   ]
  },
  {
   "cell_type": "code",
   "execution_count": 2,
   "metadata": {},
   "outputs": [],
   "source": [
    "data = pd.read_excel('ENROLLMENT_DATA_F21.xlsx')"
   ]
  },
  {
   "cell_type": "code",
   "execution_count": 3,
   "metadata": {},
   "outputs": [
    {
     "data": {
      "text/html": [
       "<div>\n",
       "<style scoped>\n",
       "    .dataframe tbody tr th:only-of-type {\n",
       "        vertical-align: middle;\n",
       "    }\n",
       "\n",
       "    .dataframe tbody tr th {\n",
       "        vertical-align: top;\n",
       "    }\n",
       "\n",
       "    .dataframe thead th {\n",
       "        text-align: right;\n",
       "    }\n",
       "</style>\n",
       "<table border=\"1\" class=\"dataframe\">\n",
       "  <thead>\n",
       "    <tr style=\"text-align: right;\">\n",
       "      <th></th>\n",
       "      <th>Target_Enroll</th>\n",
       "      <th>avg_income</th>\n",
       "      <th>CAMPUS_VISIT</th>\n",
       "      <th>CONTACT_CODE1</th>\n",
       "      <th>Contact_Date</th>\n",
       "      <th>Contact_Month</th>\n",
       "      <th>Contact_Year</th>\n",
       "      <th>distance</th>\n",
       "      <th>ETHNICITY</th>\n",
       "      <th>hscrat</th>\n",
       "      <th>...</th>\n",
       "      <th>telecq</th>\n",
       "      <th>TERRITORY</th>\n",
       "      <th>TOTAL_CONTACTS</th>\n",
       "      <th>TRAVEL_INIT_CNTCTS</th>\n",
       "      <th>Total</th>\n",
       "      <th>AllocProportion</th>\n",
       "      <th>SampleSize</th>\n",
       "      <th>ActualProportion</th>\n",
       "      <th>SelectionProb</th>\n",
       "      <th>SamplingWeight</th>\n",
       "    </tr>\n",
       "  </thead>\n",
       "  <tbody>\n",
       "    <tr>\n",
       "      <th>0</th>\n",
       "      <td>0</td>\n",
       "      <td>NaN</td>\n",
       "      <td>0</td>\n",
       "      <td>EML</td>\n",
       "      <td>1</td>\n",
       "      <td>Sep</td>\n",
       "      <td>2012</td>\n",
       "      <td>NaN</td>\n",
       "      <td>NaN</td>\n",
       "      <td>0.037652</td>\n",
       "      <td>...</td>\n",
       "      <td>NaN</td>\n",
       "      <td>N</td>\n",
       "      <td>1</td>\n",
       "      <td>0</td>\n",
       "      <td>2580</td>\n",
       "      <td>0.5</td>\n",
       "      <td>2322</td>\n",
       "      <td>0.5</td>\n",
       "      <td>0.9</td>\n",
       "      <td>1.111111</td>\n",
       "    </tr>\n",
       "    <tr>\n",
       "      <th>1</th>\n",
       "      <td>0</td>\n",
       "      <td>NaN</td>\n",
       "      <td>0</td>\n",
       "      <td>SAT</td>\n",
       "      <td>12</td>\n",
       "      <td>Feb</td>\n",
       "      <td>2014</td>\n",
       "      <td>NaN</td>\n",
       "      <td>N</td>\n",
       "      <td>0.037652</td>\n",
       "      <td>...</td>\n",
       "      <td>NaN</td>\n",
       "      <td>N</td>\n",
       "      <td>1</td>\n",
       "      <td>0</td>\n",
       "      <td>2580</td>\n",
       "      <td>0.5</td>\n",
       "      <td>2322</td>\n",
       "      <td>0.5</td>\n",
       "      <td>0.9</td>\n",
       "      <td>1.111111</td>\n",
       "    </tr>\n",
       "    <tr>\n",
       "      <th>2</th>\n",
       "      <td>0</td>\n",
       "      <td>NaN</td>\n",
       "      <td>0</td>\n",
       "      <td>C01</td>\n",
       "      <td>16</td>\n",
       "      <td>Jan</td>\n",
       "      <td>2015</td>\n",
       "      <td>NaN</td>\n",
       "      <td>C</td>\n",
       "      <td>0.037652</td>\n",
       "      <td>...</td>\n",
       "      <td>NaN</td>\n",
       "      <td>N</td>\n",
       "      <td>1</td>\n",
       "      <td>0</td>\n",
       "      <td>2580</td>\n",
       "      <td>0.5</td>\n",
       "      <td>2322</td>\n",
       "      <td>0.5</td>\n",
       "      <td>0.9</td>\n",
       "      <td>1.111111</td>\n",
       "    </tr>\n",
       "    <tr>\n",
       "      <th>3</th>\n",
       "      <td>0</td>\n",
       "      <td>NaN</td>\n",
       "      <td>0</td>\n",
       "      <td>EML</td>\n",
       "      <td>11</td>\n",
       "      <td>Mar</td>\n",
       "      <td>2015</td>\n",
       "      <td>NaN</td>\n",
       "      <td>NaN</td>\n",
       "      <td>0.037652</td>\n",
       "      <td>...</td>\n",
       "      <td>NaN</td>\n",
       "      <td>N</td>\n",
       "      <td>1</td>\n",
       "      <td>0</td>\n",
       "      <td>2580</td>\n",
       "      <td>0.5</td>\n",
       "      <td>2322</td>\n",
       "      <td>0.5</td>\n",
       "      <td>0.9</td>\n",
       "      <td>1.111111</td>\n",
       "    </tr>\n",
       "    <tr>\n",
       "      <th>4</th>\n",
       "      <td>0</td>\n",
       "      <td>NaN</td>\n",
       "      <td>0</td>\n",
       "      <td>TFL</td>\n",
       "      <td>28</td>\n",
       "      <td>Mar</td>\n",
       "      <td>2015</td>\n",
       "      <td>NaN</td>\n",
       "      <td>B</td>\n",
       "      <td>0.037652</td>\n",
       "      <td>...</td>\n",
       "      <td>NaN</td>\n",
       "      <td>N</td>\n",
       "      <td>2</td>\n",
       "      <td>0</td>\n",
       "      <td>2580</td>\n",
       "      <td>0.5</td>\n",
       "      <td>2322</td>\n",
       "      <td>0.5</td>\n",
       "      <td>0.9</td>\n",
       "      <td>1.111111</td>\n",
       "    </tr>\n",
       "  </tbody>\n",
       "</table>\n",
       "<p>5 rows × 35 columns</p>\n",
       "</div>"
      ],
      "text/plain": [
       "   Target_Enroll  avg_income  CAMPUS_VISIT CONTACT_CODE1  Contact_Date  \\\n",
       "0              0         NaN             0           EML             1   \n",
       "1              0         NaN             0           SAT            12   \n",
       "2              0         NaN             0           C01            16   \n",
       "3              0         NaN             0           EML            11   \n",
       "4              0         NaN             0           TFL            28   \n",
       "\n",
       "  Contact_Month  Contact_Year  distance ETHNICITY    hscrat  ...  telecq  \\\n",
       "0           Sep          2012       NaN       NaN  0.037652  ...     NaN   \n",
       "1           Feb          2014       NaN         N  0.037652  ...     NaN   \n",
       "2           Jan          2015       NaN         C  0.037652  ...     NaN   \n",
       "3           Mar          2015       NaN       NaN  0.037652  ...     NaN   \n",
       "4           Mar          2015       NaN         B  0.037652  ...     NaN   \n",
       "\n",
       "   TERRITORY TOTAL_CONTACTS  TRAVEL_INIT_CNTCTS  Total  AllocProportion  \\\n",
       "0          N              1                   0   2580              0.5   \n",
       "1          N              1                   0   2580              0.5   \n",
       "2          N              1                   0   2580              0.5   \n",
       "3          N              1                   0   2580              0.5   \n",
       "4          N              2                   0   2580              0.5   \n",
       "\n",
       "  SampleSize ActualProportion  SelectionProb  SamplingWeight  \n",
       "0       2322              0.5            0.9        1.111111  \n",
       "1       2322              0.5            0.9        1.111111  \n",
       "2       2322              0.5            0.9        1.111111  \n",
       "3       2322              0.5            0.9        1.111111  \n",
       "4       2322              0.5            0.9        1.111111  \n",
       "\n",
       "[5 rows x 35 columns]"
      ]
     },
     "execution_count": 3,
     "metadata": {},
     "output_type": "execute_result"
    }
   ],
   "source": [
    "data.head()"
   ]
  },
  {
   "cell_type": "code",
   "execution_count": 4,
   "metadata": {},
   "outputs": [
    {
     "data": {
      "text/plain": [
       "Index(['Target_Enroll', 'avg_income', 'CAMPUS_VISIT', 'CONTACT_CODE1',\n",
       "       'Contact_Date', 'Contact_Month', 'Contact_Year', 'distance',\n",
       "       'ETHNICITY', 'hscrat', 'ID', 'init_span', 'Instate', 'int1rat',\n",
       "       'int2rat', 'interest', 'IRSCHOOL', 'LEVEL_YEAR', 'mailq', 'premiere',\n",
       "       'REFERRAL_CNTCTS', 'satscore', 'SELF_INIT_CNTCTS', 'sex',\n",
       "       'SOLICITED_CNTCTS', 'telecq', 'TERRITORY', 'TOTAL_CONTACTS',\n",
       "       'TRAVEL_INIT_CNTCTS', 'Total', 'AllocProportion', 'SampleSize',\n",
       "       'ActualProportion', 'SelectionProb', 'SamplingWeight'],\n",
       "      dtype='object')"
      ]
     },
     "execution_count": 4,
     "metadata": {},
     "output_type": "execute_result"
    }
   ],
   "source": [
    "data.columns"
   ]
  },
  {
   "cell_type": "code",
   "execution_count": 5,
   "metadata": {},
   "outputs": [
    {
     "data": {
      "text/html": [
       "<div>\n",
       "<style scoped>\n",
       "    .dataframe tbody tr th:only-of-type {\n",
       "        vertical-align: middle;\n",
       "    }\n",
       "\n",
       "    .dataframe tbody tr th {\n",
       "        vertical-align: top;\n",
       "    }\n",
       "\n",
       "    .dataframe thead th {\n",
       "        text-align: right;\n",
       "    }\n",
       "</style>\n",
       "<table border=\"1\" class=\"dataframe\">\n",
       "  <thead>\n",
       "    <tr style=\"text-align: right;\">\n",
       "      <th></th>\n",
       "      <th>Target_Enroll</th>\n",
       "      <th>avg_income</th>\n",
       "      <th>CAMPUS_VISIT</th>\n",
       "      <th>Contact_Date</th>\n",
       "      <th>Contact_Year</th>\n",
       "      <th>distance</th>\n",
       "      <th>hscrat</th>\n",
       "      <th>ID</th>\n",
       "      <th>init_span</th>\n",
       "      <th>int1rat</th>\n",
       "      <th>...</th>\n",
       "      <th>SOLICITED_CNTCTS</th>\n",
       "      <th>telecq</th>\n",
       "      <th>TOTAL_CONTACTS</th>\n",
       "      <th>TRAVEL_INIT_CNTCTS</th>\n",
       "      <th>Total</th>\n",
       "      <th>AllocProportion</th>\n",
       "      <th>SampleSize</th>\n",
       "      <th>ActualProportion</th>\n",
       "      <th>SelectionProb</th>\n",
       "      <th>SamplingWeight</th>\n",
       "    </tr>\n",
       "  </thead>\n",
       "  <tbody>\n",
       "    <tr>\n",
       "      <th>count</th>\n",
       "      <td>4644.000000</td>\n",
       "      <td>3961.000000</td>\n",
       "      <td>4644.000000</td>\n",
       "      <td>4644.000000</td>\n",
       "      <td>4644.000000</td>\n",
       "      <td>4042.000000</td>\n",
       "      <td>4644.000000</td>\n",
       "      <td>4644.000000</td>\n",
       "      <td>4644.000000</td>\n",
       "      <td>4644.000000</td>\n",
       "      <td>...</td>\n",
       "      <td>4644.000000</td>\n",
       "      <td>1895.000000</td>\n",
       "      <td>4644.000000</td>\n",
       "      <td>4644.000000</td>\n",
       "      <td>4644.0</td>\n",
       "      <td>4644.0</td>\n",
       "      <td>4644.0</td>\n",
       "      <td>4644.0</td>\n",
       "      <td>4.644000e+03</td>\n",
       "      <td>4.644000e+03</td>\n",
       "    </tr>\n",
       "    <tr>\n",
       "      <th>mean</th>\n",
       "      <td>0.500000</td>\n",
       "      <td>53458.724817</td>\n",
       "      <td>0.149871</td>\n",
       "      <td>15.737295</td>\n",
       "      <td>2014.613480</td>\n",
       "      <td>316.312650</td>\n",
       "      <td>0.088487</td>\n",
       "      <td>44503.237941</td>\n",
       "      <td>19.182171</td>\n",
       "      <td>0.045547</td>\n",
       "      <td>...</td>\n",
       "      <td>0.585487</td>\n",
       "      <td>2.144063</td>\n",
       "      <td>4.422481</td>\n",
       "      <td>0.447674</td>\n",
       "      <td>2580.0</td>\n",
       "      <td>0.5</td>\n",
       "      <td>2322.0</td>\n",
       "      <td>0.5</td>\n",
       "      <td>9.000000e-01</td>\n",
       "      <td>1.111111e+00</td>\n",
       "    </tr>\n",
       "    <tr>\n",
       "      <th>std</th>\n",
       "      <td>0.500054</td>\n",
       "      <td>23003.208372</td>\n",
       "      <td>0.374646</td>\n",
       "      <td>8.813250</td>\n",
       "      <td>0.722727</td>\n",
       "      <td>368.131106</td>\n",
       "      <td>0.145121</td>\n",
       "      <td>22305.093812</td>\n",
       "      <td>9.257648</td>\n",
       "      <td>0.036270</td>\n",
       "      <td>...</td>\n",
       "      <td>0.764699</td>\n",
       "      <td>0.807721</td>\n",
       "      <td>3.480882</td>\n",
       "      <td>0.670328</td>\n",
       "      <td>0.0</td>\n",
       "      <td>0.0</td>\n",
       "      <td>0.0</td>\n",
       "      <td>0.0</td>\n",
       "      <td>5.562816e-14</td>\n",
       "      <td>1.132549e-13</td>\n",
       "    </tr>\n",
       "    <tr>\n",
       "      <th>min</th>\n",
       "      <td>0.000000</td>\n",
       "      <td>9783.000000</td>\n",
       "      <td>0.000000</td>\n",
       "      <td>1.000000</td>\n",
       "      <td>2010.000000</td>\n",
       "      <td>0.790555</td>\n",
       "      <td>0.000000</td>\n",
       "      <td>32.000000</td>\n",
       "      <td>-216.000000</td>\n",
       "      <td>0.000000</td>\n",
       "      <td>...</td>\n",
       "      <td>0.000000</td>\n",
       "      <td>1.000000</td>\n",
       "      <td>1.000000</td>\n",
       "      <td>0.000000</td>\n",
       "      <td>2580.0</td>\n",
       "      <td>0.5</td>\n",
       "      <td>2322.0</td>\n",
       "      <td>0.5</td>\n",
       "      <td>9.000000e-01</td>\n",
       "      <td>1.111111e+00</td>\n",
       "    </tr>\n",
       "    <tr>\n",
       "      <th>25%</th>\n",
       "      <td>0.000000</td>\n",
       "      <td>35544.000000</td>\n",
       "      <td>0.000000</td>\n",
       "      <td>7.000000</td>\n",
       "      <td>2014.000000</td>\n",
       "      <td>102.108996</td>\n",
       "      <td>0.024096</td>\n",
       "      <td>28013.750000</td>\n",
       "      <td>12.000000</td>\n",
       "      <td>0.020906</td>\n",
       "      <td>...</td>\n",
       "      <td>0.000000</td>\n",
       "      <td>2.000000</td>\n",
       "      <td>1.000000</td>\n",
       "      <td>0.000000</td>\n",
       "      <td>2580.0</td>\n",
       "      <td>0.5</td>\n",
       "      <td>2322.0</td>\n",
       "      <td>0.5</td>\n",
       "      <td>9.000000e-01</td>\n",
       "      <td>1.111111e+00</td>\n",
       "    </tr>\n",
       "    <tr>\n",
       "      <th>50%</th>\n",
       "      <td>0.500000</td>\n",
       "      <td>48589.000000</td>\n",
       "      <td>0.000000</td>\n",
       "      <td>16.000000</td>\n",
       "      <td>2015.000000</td>\n",
       "      <td>159.887072</td>\n",
       "      <td>0.052632</td>\n",
       "      <td>45662.000000</td>\n",
       "      <td>18.000000</td>\n",
       "      <td>0.049270</td>\n",
       "      <td>...</td>\n",
       "      <td>0.000000</td>\n",
       "      <td>2.000000</td>\n",
       "      <td>3.000000</td>\n",
       "      <td>0.000000</td>\n",
       "      <td>2580.0</td>\n",
       "      <td>0.5</td>\n",
       "      <td>2322.0</td>\n",
       "      <td>0.5</td>\n",
       "      <td>9.000000e-01</td>\n",
       "      <td>1.111111e+00</td>\n",
       "    </tr>\n",
       "    <tr>\n",
       "      <th>75%</th>\n",
       "      <td>1.000000</td>\n",
       "      <td>68458.000000</td>\n",
       "      <td>0.000000</td>\n",
       "      <td>23.000000</td>\n",
       "      <td>2015.000000</td>\n",
       "      <td>371.084211</td>\n",
       "      <td>0.095238</td>\n",
       "      <td>62609.250000</td>\n",
       "      <td>23.000000</td>\n",
       "      <td>0.049270</td>\n",
       "      <td>...</td>\n",
       "      <td>1.000000</td>\n",
       "      <td>2.000000</td>\n",
       "      <td>7.000000</td>\n",
       "      <td>1.000000</td>\n",
       "      <td>2580.0</td>\n",
       "      <td>0.5</td>\n",
       "      <td>2322.0</td>\n",
       "      <td>0.5</td>\n",
       "      <td>9.000000e-01</td>\n",
       "      <td>1.111111e+00</td>\n",
       "    </tr>\n",
       "    <tr>\n",
       "      <th>max</th>\n",
       "      <td>1.000000</td>\n",
       "      <td>200001.000000</td>\n",
       "      <td>2.000000</td>\n",
       "      <td>31.000000</td>\n",
       "      <td>2016.000000</td>\n",
       "      <td>3820.892094</td>\n",
       "      <td>1.000000</td>\n",
       "      <td>82327.000000</td>\n",
       "      <td>72.000000</td>\n",
       "      <td>1.000000</td>\n",
       "      <td>...</td>\n",
       "      <td>9.000000</td>\n",
       "      <td>4.000000</td>\n",
       "      <td>28.000000</td>\n",
       "      <td>5.000000</td>\n",
       "      <td>2580.0</td>\n",
       "      <td>0.5</td>\n",
       "      <td>2322.0</td>\n",
       "      <td>0.5</td>\n",
       "      <td>9.000000e-01</td>\n",
       "      <td>1.111111e+00</td>\n",
       "    </tr>\n",
       "  </tbody>\n",
       "</table>\n",
       "<p>8 rows × 28 columns</p>\n",
       "</div>"
      ],
      "text/plain": [
       "       Target_Enroll     avg_income  CAMPUS_VISIT  Contact_Date  Contact_Year  \\\n",
       "count    4644.000000    3961.000000   4644.000000   4644.000000   4644.000000   \n",
       "mean        0.500000   53458.724817      0.149871     15.737295   2014.613480   \n",
       "std         0.500054   23003.208372      0.374646      8.813250      0.722727   \n",
       "min         0.000000    9783.000000      0.000000      1.000000   2010.000000   \n",
       "25%         0.000000   35544.000000      0.000000      7.000000   2014.000000   \n",
       "50%         0.500000   48589.000000      0.000000     16.000000   2015.000000   \n",
       "75%         1.000000   68458.000000      0.000000     23.000000   2015.000000   \n",
       "max         1.000000  200001.000000      2.000000     31.000000   2016.000000   \n",
       "\n",
       "          distance       hscrat            ID    init_span      int1rat  ...  \\\n",
       "count  4042.000000  4644.000000   4644.000000  4644.000000  4644.000000  ...   \n",
       "mean    316.312650     0.088487  44503.237941    19.182171     0.045547  ...   \n",
       "std     368.131106     0.145121  22305.093812     9.257648     0.036270  ...   \n",
       "min       0.790555     0.000000     32.000000  -216.000000     0.000000  ...   \n",
       "25%     102.108996     0.024096  28013.750000    12.000000     0.020906  ...   \n",
       "50%     159.887072     0.052632  45662.000000    18.000000     0.049270  ...   \n",
       "75%     371.084211     0.095238  62609.250000    23.000000     0.049270  ...   \n",
       "max    3820.892094     1.000000  82327.000000    72.000000     1.000000  ...   \n",
       "\n",
       "       SOLICITED_CNTCTS       telecq  TOTAL_CONTACTS  TRAVEL_INIT_CNTCTS  \\\n",
       "count       4644.000000  1895.000000     4644.000000         4644.000000   \n",
       "mean           0.585487     2.144063        4.422481            0.447674   \n",
       "std            0.764699     0.807721        3.480882            0.670328   \n",
       "min            0.000000     1.000000        1.000000            0.000000   \n",
       "25%            0.000000     2.000000        1.000000            0.000000   \n",
       "50%            0.000000     2.000000        3.000000            0.000000   \n",
       "75%            1.000000     2.000000        7.000000            1.000000   \n",
       "max            9.000000     4.000000       28.000000            5.000000   \n",
       "\n",
       "        Total  AllocProportion  SampleSize  ActualProportion  SelectionProb  \\\n",
       "count  4644.0           4644.0      4644.0            4644.0   4.644000e+03   \n",
       "mean   2580.0              0.5      2322.0               0.5   9.000000e-01   \n",
       "std       0.0              0.0         0.0               0.0   5.562816e-14   \n",
       "min    2580.0              0.5      2322.0               0.5   9.000000e-01   \n",
       "25%    2580.0              0.5      2322.0               0.5   9.000000e-01   \n",
       "50%    2580.0              0.5      2322.0               0.5   9.000000e-01   \n",
       "75%    2580.0              0.5      2322.0               0.5   9.000000e-01   \n",
       "max    2580.0              0.5      2322.0               0.5   9.000000e-01   \n",
       "\n",
       "       SamplingWeight  \n",
       "count    4.644000e+03  \n",
       "mean     1.111111e+00  \n",
       "std      1.132549e-13  \n",
       "min      1.111111e+00  \n",
       "25%      1.111111e+00  \n",
       "50%      1.111111e+00  \n",
       "75%      1.111111e+00  \n",
       "max      1.111111e+00  \n",
       "\n",
       "[8 rows x 28 columns]"
      ]
     },
     "execution_count": 5,
     "metadata": {},
     "output_type": "execute_result"
    }
   ],
   "source": [
    "data.describe()"
   ]
  },
  {
   "cell_type": "code",
   "execution_count": 6,
   "metadata": {},
   "outputs": [
    {
     "name": "stdout",
     "output_type": "stream",
     "text": [
      "<class 'pandas.core.frame.DataFrame'>\n",
      "RangeIndex: 4644 entries, 0 to 4643\n",
      "Data columns (total 35 columns):\n",
      " #   Column              Non-Null Count  Dtype  \n",
      "---  ------              --------------  -----  \n",
      " 0   Target_Enroll       4644 non-null   int64  \n",
      " 1   avg_income          3961 non-null   float64\n",
      " 2   CAMPUS_VISIT        4644 non-null   int64  \n",
      " 3   CONTACT_CODE1       4639 non-null   object \n",
      " 4   Contact_Date        4644 non-null   int64  \n",
      " 5   Contact_Month       4644 non-null   object \n",
      " 6   Contact_Year        4644 non-null   int64  \n",
      " 7   distance            4042 non-null   float64\n",
      " 8   ETHNICITY           4107 non-null   object \n",
      " 9   hscrat              4644 non-null   float64\n",
      " 10  ID                  4644 non-null   int64  \n",
      " 11  init_span           4644 non-null   int64  \n",
      " 12  Instate             4644 non-null   object \n",
      " 13  int1rat             4644 non-null   float64\n",
      " 14  int2rat             4644 non-null   float64\n",
      " 15  interest            4644 non-null   int64  \n",
      " 16  IRSCHOOL            4259 non-null   object \n",
      " 17  LEVEL_YEAR          4644 non-null   object \n",
      " 18  mailq               4644 non-null   int64  \n",
      " 19  premiere            4644 non-null   int64  \n",
      " 20  REFERRAL_CNTCTS     4644 non-null   int64  \n",
      " 21  satscore            2940 non-null   float64\n",
      " 22  SELF_INIT_CNTCTS    4644 non-null   int64  \n",
      " 23  sex                 4533 non-null   float64\n",
      " 24  SOLICITED_CNTCTS    4644 non-null   int64  \n",
      " 25  telecq              1895 non-null   float64\n",
      " 26  TERRITORY           4644 non-null   object \n",
      " 27  TOTAL_CONTACTS      4644 non-null   int64  \n",
      " 28  TRAVEL_INIT_CNTCTS  4644 non-null   int64  \n",
      " 29  Total               4644 non-null   int64  \n",
      " 30  AllocProportion     4644 non-null   float64\n",
      " 31  SampleSize          4644 non-null   int64  \n",
      " 32  ActualProportion    4644 non-null   float64\n",
      " 33  SelectionProb       4644 non-null   float64\n",
      " 34  SamplingWeight      4644 non-null   float64\n",
      "dtypes: float64(12), int64(16), object(7)\n",
      "memory usage: 1.2+ MB\n"
     ]
    }
   ],
   "source": [
    "data.info()"
   ]
  },
  {
   "cell_type": "markdown",
   "metadata": {},
   "source": [
    "# Data Preprocessing"
   ]
  },
  {
   "cell_type": "code",
   "execution_count": 7,
   "metadata": {},
   "outputs": [],
   "source": [
    "catcols = data.select_dtypes(['object']).columns"
   ]
  },
  {
   "cell_type": "code",
   "execution_count": 8,
   "metadata": {},
   "outputs": [
    {
     "data": {
      "text/plain": [
       "Index(['CONTACT_CODE1', 'Contact_Month', 'ETHNICITY', 'Instate', 'IRSCHOOL',\n",
       "       'LEVEL_YEAR', 'TERRITORY'],\n",
       "      dtype='object')"
      ]
     },
     "execution_count": 8,
     "metadata": {},
     "output_type": "execute_result"
    }
   ],
   "source": [
    "catcols"
   ]
  },
  {
   "cell_type": "code",
   "execution_count": 9,
   "metadata": {},
   "outputs": [],
   "source": [
    "# Turning objects into floats\n",
    "\n",
    "for i in data.columns:\n",
    "    if data[i].dtype == 'object':\n",
    "        data[i]=data[i].str.decode('utf-8')"
   ]
  },
  {
   "cell_type": "code",
   "execution_count": 10,
   "metadata": {},
   "outputs": [
    {
     "data": {
      "text/plain": [
       "Target_Enroll            0\n",
       "avg_income             683\n",
       "CAMPUS_VISIT             0\n",
       "CONTACT_CODE1         4644\n",
       "Contact_Date             0\n",
       "Contact_Month         4644\n",
       "Contact_Year             0\n",
       "distance               602\n",
       "ETHNICITY             4644\n",
       "hscrat                   0\n",
       "ID                       0\n",
       "init_span                0\n",
       "Instate               4644\n",
       "int1rat                  0\n",
       "int2rat                  0\n",
       "interest                 0\n",
       "IRSCHOOL              4644\n",
       "LEVEL_YEAR            4644\n",
       "mailq                    0\n",
       "premiere                 0\n",
       "REFERRAL_CNTCTS          0\n",
       "satscore              1704\n",
       "SELF_INIT_CNTCTS         0\n",
       "sex                    111\n",
       "SOLICITED_CNTCTS         0\n",
       "telecq                2749\n",
       "TERRITORY             4644\n",
       "TOTAL_CONTACTS           0\n",
       "TRAVEL_INIT_CNTCTS       0\n",
       "Total                    0\n",
       "AllocProportion          0\n",
       "SampleSize               0\n",
       "ActualProportion         0\n",
       "SelectionProb            0\n",
       "SamplingWeight           0\n",
       "dtype: int64"
      ]
     },
     "execution_count": 10,
     "metadata": {},
     "output_type": "execute_result"
    }
   ],
   "source": [
    "#Missing Values\n",
    "\n",
    "data.isnull().sum()"
   ]
  },
  {
   "cell_type": "code",
   "execution_count": 16,
   "metadata": {},
   "outputs": [],
   "source": [
    "#imputing missing values\n",
    "\n",
    "for i in data.columns:\n",
    "    if data[i].dtype ==\"float64\":\n",
    "        data[i].fillna(data[i].mean(), inplace=True)\n",
    "    else:\n",
    "        data[i].fillna(data[i].mode(), inplace=True)    "
   ]
  },
  {
   "cell_type": "code",
   "execution_count": 17,
   "metadata": {},
   "outputs": [
    {
     "data": {
      "text/plain": [
       "Target_Enroll            0\n",
       "avg_income               0\n",
       "CAMPUS_VISIT             0\n",
       "CONTACT_CODE1         4644\n",
       "Contact_Date             0\n",
       "Contact_Month         4644\n",
       "Contact_Year             0\n",
       "distance                 0\n",
       "ETHNICITY             4644\n",
       "hscrat                   0\n",
       "ID                       0\n",
       "init_span                0\n",
       "Instate               4644\n",
       "int1rat                  0\n",
       "int2rat                  0\n",
       "interest                 0\n",
       "IRSCHOOL              4644\n",
       "LEVEL_YEAR            4644\n",
       "mailq                    0\n",
       "premiere                 0\n",
       "REFERRAL_CNTCTS          0\n",
       "satscore                 0\n",
       "SELF_INIT_CNTCTS         0\n",
       "sex                      0\n",
       "SOLICITED_CNTCTS         0\n",
       "telecq                   0\n",
       "TERRITORY             4644\n",
       "TOTAL_CONTACTS           0\n",
       "TRAVEL_INIT_CNTCTS       0\n",
       "Total                    0\n",
       "AllocProportion          0\n",
       "SampleSize               0\n",
       "ActualProportion         0\n",
       "SelectionProb            0\n",
       "SamplingWeight           0\n",
       "dtype: int64"
      ]
     },
     "execution_count": 17,
     "metadata": {},
     "output_type": "execute_result"
    }
   ],
   "source": [
    "data.isnull().sum()"
   ]
  },
  {
   "cell_type": "code",
   "execution_count": 19,
   "metadata": {},
   "outputs": [
    {
     "data": {
      "text/plain": [
       "CONTACT_CODE1    0\n",
       "Contact_Month    0\n",
       "ETHNICITY        0\n",
       "Instate          0\n",
       "IRSCHOOL         0\n",
       "LEVEL_YEAR       0\n",
       "TERRITORY        0\n",
       "dtype: int64"
      ]
     },
     "execution_count": 19,
     "metadata": {},
     "output_type": "execute_result"
    }
   ],
   "source": [
    "# show the levels of the categorical variables\n",
    "\n",
    "data[catcols].nunique()"
   ]
  },
  {
   "cell_type": "code",
   "execution_count": 22,
   "metadata": {},
   "outputs": [],
   "source": [
    "#Dropping IRSCHOOL\n",
    "data3 = data.drop(['IRSCHOOL', 'CONTACT_CODE1', 'Contact_Month', 'ETHNICITY', 'Instate', 'LEVEL_YEAR', 'TERRITORY'], axis=1)"
   ]
  },
  {
   "cell_type": "code",
   "execution_count": 23,
   "metadata": {},
   "outputs": [
    {
     "data": {
      "text/html": [
       "<div>\n",
       "<style scoped>\n",
       "    .dataframe tbody tr th:only-of-type {\n",
       "        vertical-align: middle;\n",
       "    }\n",
       "\n",
       "    .dataframe tbody tr th {\n",
       "        vertical-align: top;\n",
       "    }\n",
       "\n",
       "    .dataframe thead th {\n",
       "        text-align: right;\n",
       "    }\n",
       "</style>\n",
       "<table border=\"1\" class=\"dataframe\">\n",
       "  <thead>\n",
       "    <tr style=\"text-align: right;\">\n",
       "      <th></th>\n",
       "      <th>Target_Enroll</th>\n",
       "      <th>avg_income</th>\n",
       "      <th>CAMPUS_VISIT</th>\n",
       "      <th>Contact_Date</th>\n",
       "      <th>Contact_Year</th>\n",
       "      <th>distance</th>\n",
       "      <th>hscrat</th>\n",
       "      <th>ID</th>\n",
       "      <th>init_span</th>\n",
       "      <th>int1rat</th>\n",
       "      <th>...</th>\n",
       "      <th>SOLICITED_CNTCTS</th>\n",
       "      <th>telecq</th>\n",
       "      <th>TOTAL_CONTACTS</th>\n",
       "      <th>TRAVEL_INIT_CNTCTS</th>\n",
       "      <th>Total</th>\n",
       "      <th>AllocProportion</th>\n",
       "      <th>SampleSize</th>\n",
       "      <th>ActualProportion</th>\n",
       "      <th>SelectionProb</th>\n",
       "      <th>SamplingWeight</th>\n",
       "    </tr>\n",
       "  </thead>\n",
       "  <tbody>\n",
       "    <tr>\n",
       "      <th>0</th>\n",
       "      <td>0</td>\n",
       "      <td>53458.724817</td>\n",
       "      <td>0</td>\n",
       "      <td>1</td>\n",
       "      <td>2012</td>\n",
       "      <td>316.31265</td>\n",
       "      <td>0.037652</td>\n",
       "      <td>32</td>\n",
       "      <td>48</td>\n",
       "      <td>0.017183</td>\n",
       "      <td>...</td>\n",
       "      <td>0</td>\n",
       "      <td>2.144063</td>\n",
       "      <td>1</td>\n",
       "      <td>0</td>\n",
       "      <td>2580</td>\n",
       "      <td>0.5</td>\n",
       "      <td>2322</td>\n",
       "      <td>0.5</td>\n",
       "      <td>0.9</td>\n",
       "      <td>1.111111</td>\n",
       "    </tr>\n",
       "    <tr>\n",
       "      <th>1</th>\n",
       "      <td>0</td>\n",
       "      <td>53458.724817</td>\n",
       "      <td>0</td>\n",
       "      <td>12</td>\n",
       "      <td>2014</td>\n",
       "      <td>316.31265</td>\n",
       "      <td>0.037652</td>\n",
       "      <td>51</td>\n",
       "      <td>31</td>\n",
       "      <td>0.017183</td>\n",
       "      <td>...</td>\n",
       "      <td>0</td>\n",
       "      <td>2.144063</td>\n",
       "      <td>1</td>\n",
       "      <td>0</td>\n",
       "      <td>2580</td>\n",
       "      <td>0.5</td>\n",
       "      <td>2322</td>\n",
       "      <td>0.5</td>\n",
       "      <td>0.9</td>\n",
       "      <td>1.111111</td>\n",
       "    </tr>\n",
       "    <tr>\n",
       "      <th>2</th>\n",
       "      <td>0</td>\n",
       "      <td>53458.724817</td>\n",
       "      <td>0</td>\n",
       "      <td>16</td>\n",
       "      <td>2015</td>\n",
       "      <td>316.31265</td>\n",
       "      <td>0.037652</td>\n",
       "      <td>120</td>\n",
       "      <td>20</td>\n",
       "      <td>0.017183</td>\n",
       "      <td>...</td>\n",
       "      <td>1</td>\n",
       "      <td>2.144063</td>\n",
       "      <td>1</td>\n",
       "      <td>0</td>\n",
       "      <td>2580</td>\n",
       "      <td>0.5</td>\n",
       "      <td>2322</td>\n",
       "      <td>0.5</td>\n",
       "      <td>0.9</td>\n",
       "      <td>1.111111</td>\n",
       "    </tr>\n",
       "    <tr>\n",
       "      <th>3</th>\n",
       "      <td>0</td>\n",
       "      <td>53458.724817</td>\n",
       "      <td>0</td>\n",
       "      <td>11</td>\n",
       "      <td>2015</td>\n",
       "      <td>316.31265</td>\n",
       "      <td>0.037652</td>\n",
       "      <td>151</td>\n",
       "      <td>18</td>\n",
       "      <td>0.017183</td>\n",
       "      <td>...</td>\n",
       "      <td>0</td>\n",
       "      <td>2.144063</td>\n",
       "      <td>1</td>\n",
       "      <td>0</td>\n",
       "      <td>2580</td>\n",
       "      <td>0.5</td>\n",
       "      <td>2322</td>\n",
       "      <td>0.5</td>\n",
       "      <td>0.9</td>\n",
       "      <td>1.111111</td>\n",
       "    </tr>\n",
       "    <tr>\n",
       "      <th>4</th>\n",
       "      <td>0</td>\n",
       "      <td>53458.724817</td>\n",
       "      <td>0</td>\n",
       "      <td>28</td>\n",
       "      <td>2015</td>\n",
       "      <td>316.31265</td>\n",
       "      <td>0.037652</td>\n",
       "      <td>160</td>\n",
       "      <td>18</td>\n",
       "      <td>0.017183</td>\n",
       "      <td>...</td>\n",
       "      <td>0</td>\n",
       "      <td>2.144063</td>\n",
       "      <td>2</td>\n",
       "      <td>0</td>\n",
       "      <td>2580</td>\n",
       "      <td>0.5</td>\n",
       "      <td>2322</td>\n",
       "      <td>0.5</td>\n",
       "      <td>0.9</td>\n",
       "      <td>1.111111</td>\n",
       "    </tr>\n",
       "  </tbody>\n",
       "</table>\n",
       "<p>5 rows × 28 columns</p>\n",
       "</div>"
      ],
      "text/plain": [
       "   Target_Enroll    avg_income  CAMPUS_VISIT  Contact_Date  Contact_Year  \\\n",
       "0              0  53458.724817             0             1          2012   \n",
       "1              0  53458.724817             0            12          2014   \n",
       "2              0  53458.724817             0            16          2015   \n",
       "3              0  53458.724817             0            11          2015   \n",
       "4              0  53458.724817             0            28          2015   \n",
       "\n",
       "    distance    hscrat   ID  init_span   int1rat  ...  SOLICITED_CNTCTS  \\\n",
       "0  316.31265  0.037652   32         48  0.017183  ...                 0   \n",
       "1  316.31265  0.037652   51         31  0.017183  ...                 0   \n",
       "2  316.31265  0.037652  120         20  0.017183  ...                 1   \n",
       "3  316.31265  0.037652  151         18  0.017183  ...                 0   \n",
       "4  316.31265  0.037652  160         18  0.017183  ...                 0   \n",
       "\n",
       "     telecq  TOTAL_CONTACTS  TRAVEL_INIT_CNTCTS  Total  AllocProportion  \\\n",
       "0  2.144063               1                   0   2580              0.5   \n",
       "1  2.144063               1                   0   2580              0.5   \n",
       "2  2.144063               1                   0   2580              0.5   \n",
       "3  2.144063               1                   0   2580              0.5   \n",
       "4  2.144063               2                   0   2580              0.5   \n",
       "\n",
       "   SampleSize  ActualProportion  SelectionProb  SamplingWeight  \n",
       "0        2322               0.5            0.9        1.111111  \n",
       "1        2322               0.5            0.9        1.111111  \n",
       "2        2322               0.5            0.9        1.111111  \n",
       "3        2322               0.5            0.9        1.111111  \n",
       "4        2322               0.5            0.9        1.111111  \n",
       "\n",
       "[5 rows x 28 columns]"
      ]
     },
     "execution_count": 23,
     "metadata": {},
     "output_type": "execute_result"
    }
   ],
   "source": [
    "data3.head()"
   ]
  },
  {
   "cell_type": "code",
   "execution_count": 24,
   "metadata": {},
   "outputs": [],
   "source": [
    "#Splitting data \n",
    "\n",
    "X= data3.drop(['Target_Enroll'], axis=1)\n",
    "Y= data3['Target_Enroll'].astype('category')"
   ]
  },
  {
   "cell_type": "code",
   "execution_count": 25,
   "metadata": {},
   "outputs": [],
   "source": [
    "#Split data into 70/30\n",
    "\n",
    "X_train, X_test, y_train, y_test = train_test_split(X,Y, test_size=0.3)"
   ]
  },
  {
   "cell_type": "markdown",
   "metadata": {},
   "source": [
    "# Q1 Logisitic Regression"
   ]
  },
  {
   "cell_type": "code",
   "execution_count": 26,
   "metadata": {},
   "outputs": [],
   "source": [
    "log_model= LogisticRegression(penalty='l1', solver='liblinear', C=1e9).fit(X_train, y_train)"
   ]
  },
  {
   "cell_type": "code",
   "execution_count": 27,
   "metadata": {},
   "outputs": [
    {
     "data": {
      "text/plain": [
       "0.8995695839311334"
      ]
     },
     "execution_count": 27,
     "metadata": {},
     "output_type": "execute_result"
    }
   ],
   "source": [
    "accuracy_score(log_model.predict(X_test), y_test)"
   ]
  },
  {
   "cell_type": "markdown",
   "metadata": {},
   "source": [
    "# Q2 Stepwise Regression"
   ]
  },
  {
   "cell_type": "code",
   "execution_count": 36,
   "metadata": {},
   "outputs": [],
   "source": [
    "#This is the stepwise regression function\n",
    "\n",
    "def stepwise_selection(data3, target, SL_in = 0.05, SL_out = 0.05):\n",
    "    initial_features = data3.columns.tolist()\n",
    "    best_features=[]\n",
    "    \n",
    "    while (len(initial_features)>0):\n",
    "        remaining_features = list(set(initial_features)-set(best_features))\n",
    "        new_pval = pd.Series(index=remaining_features, dtype='float64')\n",
    "        \n",
    "        for new_column in remaining_features:\n",
    "            model = sm.OLS(target, sm.add_constant(data[best_features+[new_column]])).fit()\n",
    "            new_pval[new_column]= model.pvalues[new_column]\n",
    "        min_p_value = new_pval.min()\n",
    "        \n",
    "        if(min_p_value < SL_in):\n",
    "            best_features.append(new_pval.idxmin())\n",
    "            \n",
    "            while(len(best_features)>0):\n",
    "                best_features_with_constant = sm.add_constant(data[best_features])\n",
    "                p_values = sm.OLS(target, best_features_with_constant).fit().pvalues[1:]\n",
    "                \n",
    "                max_p_value = p_values.max()\n",
    "                if(max_p_value >= SL_out):\n",
    "                    excluded_feature = p_values.idxmax()\n",
    "                    best_features.remove(excluded_feature)\n",
    "                else:\n",
    "                    break\n",
    "        else:\n",
    "            break\n",
    "    return best_features"
   ]
  },
  {
   "cell_type": "code",
   "execution_count": 37,
   "metadata": {},
   "outputs": [],
   "source": [
    "X1 = stepwise_selection(X,Y)"
   ]
  },
  {
   "cell_type": "code",
   "execution_count": 38,
   "metadata": {},
   "outputs": [
    {
     "name": "stdout",
     "output_type": "stream",
     "text": [
      "['AllocProportion', 'Total', 'SamplingWeight', 'SampleSize', 'SelectionProb', 'SELF_INIT_CNTCTS', 'hscrat', 'telecq', 'ActualProportion', 'distance', 'init_span', 'avg_income', 'interest', 'int1rat', 'CAMPUS_VISIT', 'premiere', 'satscore', 'REFERRAL_CNTCTS', 'int2rat', 'Contact_Year', 'sex', 'mailq', 'TRAVEL_INIT_CNTCTS']\n"
     ]
    }
   ],
   "source": [
    "#selected variables\n",
    "print(X1)"
   ]
  },
  {
   "cell_type": "code",
   "execution_count": 41,
   "metadata": {},
   "outputs": [],
   "source": [
    "X_stepwise = data3[X1]"
   ]
  },
  {
   "cell_type": "code",
   "execution_count": 43,
   "metadata": {},
   "outputs": [],
   "source": [
    "#Split that data\n",
    "\n",
    "X_train, X_test, y_train, y_test = train_test_split(X_stepwise, Y, test_size=0.3)"
   ]
  },
  {
   "cell_type": "code",
   "execution_count": 44,
   "metadata": {},
   "outputs": [],
   "source": [
    "#logistic modeling\n",
    "\n",
    "log_model = LogisticRegression(penalty='l1', solver='liblinear', C = 1e9).fit(X_train, y_train)"
   ]
  },
  {
   "cell_type": "code",
   "execution_count": 45,
   "metadata": {},
   "outputs": [
    {
     "data": {
      "text/plain": [
       "0.9117647058823529"
      ]
     },
     "execution_count": 45,
     "metadata": {},
     "output_type": "execute_result"
    }
   ],
   "source": [
    "accuracy_score(log_model.predict(X_test), y_test)"
   ]
  },
  {
   "cell_type": "markdown",
   "metadata": {},
   "source": [
    "# Q3 Decision Tree "
   ]
  },
  {
   "cell_type": "code",
   "execution_count": 47,
   "metadata": {},
   "outputs": [],
   "source": [
    "#Split that data\n",
    "\n",
    "X_train, X_test, y_train, y_test = train_test_split(X,Y, test_size=0.3)"
   ]
  },
  {
   "cell_type": "code",
   "execution_count": 49,
   "metadata": {},
   "outputs": [
    {
     "data": {
      "text/plain": [
       "0.8945480631276901"
      ]
     },
     "execution_count": 49,
     "metadata": {},
     "output_type": "execute_result"
    }
   ],
   "source": [
    "#Decision Tree\n",
    "\n",
    "DT_model = DecisionTreeClassifier().fit(X_train, y_train)\n",
    "\n",
    "accuracy_score(DT_model.predict(X_test), y_test)"
   ]
  },
  {
   "cell_type": "markdown",
   "metadata": {},
   "source": [
    "# Q4 Gradient Boosting"
   ]
  },
  {
   "cell_type": "code",
   "execution_count": 50,
   "metadata": {},
   "outputs": [
    {
     "data": {
      "text/plain": [
       "0.9404591104734576"
      ]
     },
     "execution_count": 50,
     "metadata": {},
     "output_type": "execute_result"
    }
   ],
   "source": [
    "gb_model = GradientBoostingClassifier()\n",
    "gb_model.fit(X_train, y_train)\n",
    "\n",
    "#accuracy\n",
    "accuracy_score(gb_model.predict(X_test), y_test)"
   ]
  },
  {
   "cell_type": "markdown",
   "metadata": {},
   "source": [
    "# Q5 Random Forest "
   ]
  },
  {
   "cell_type": "code",
   "execution_count": 51,
   "metadata": {},
   "outputs": [
    {
     "data": {
      "text/plain": [
       "0.9383070301291249"
      ]
     },
     "execution_count": 51,
     "metadata": {},
     "output_type": "execute_result"
    }
   ],
   "source": [
    "rf_model = RandomForestClassifier()\n",
    "rf_model.fit(X_train, y_train)\n",
    "\n",
    "#accuracy\n",
    "accuracy_score(rf_model.predict(X_test), y_test)"
   ]
  },
  {
   "cell_type": "markdown",
   "metadata": {},
   "source": [
    "# Q6 SVM"
   ]
  },
  {
   "cell_type": "markdown",
   "metadata": {},
   "source": [
    "Linear Kernel"
   ]
  },
  {
   "cell_type": "code",
   "execution_count": 52,
   "metadata": {},
   "outputs": [
    {
     "data": {
      "text/plain": [
       "0.8923959827833573"
      ]
     },
     "execution_count": 52,
     "metadata": {},
     "output_type": "execute_result"
    }
   ],
   "source": [
    "svm_model = SVC(kernel='linear').fit(X_train, y_train)\n",
    "\n",
    "#accuracy\n",
    "accuracy_score(svm_model.predict(X_test), y_test)"
   ]
  },
  {
   "cell_type": "markdown",
   "metadata": {},
   "source": [
    "Polynomial Kernel"
   ]
  },
  {
   "cell_type": "code",
   "execution_count": 53,
   "metadata": {},
   "outputs": [
    {
     "data": {
      "text/plain": [
       "0.5911047345767575"
      ]
     },
     "execution_count": 53,
     "metadata": {},
     "output_type": "execute_result"
    }
   ],
   "source": [
    "svm_model = SVC(kernel='poly').fit(X_train, y_train)\n",
    "\n",
    "#accuracy\n",
    "accuracy_score(svm_model.predict(X_test), y_test)"
   ]
  },
  {
   "cell_type": "markdown",
   "metadata": {},
   "source": [
    "Gaussian Kernel (RBF)"
   ]
  },
  {
   "cell_type": "code",
   "execution_count": 54,
   "metadata": {},
   "outputs": [
    {
     "data": {
      "text/plain": [
       "0.599713055954089"
      ]
     },
     "execution_count": 54,
     "metadata": {},
     "output_type": "execute_result"
    }
   ],
   "source": [
    "svm_model = SVC(kernel= 'rbf').fit(X_train, y_train)\n",
    "\n",
    "accuracy_score(svm_model.predict(X_test), y_test)"
   ]
  },
  {
   "cell_type": "code",
   "execution_count": null,
   "metadata": {},
   "outputs": [],
   "source": []
  }
 ],
 "metadata": {
  "kernelspec": {
   "display_name": "Python 3",
   "language": "python",
   "name": "python3"
  },
  "language_info": {
   "codemirror_mode": {
    "name": "ipython",
    "version": 3
   },
   "file_extension": ".py",
   "mimetype": "text/x-python",
   "name": "python",
   "nbconvert_exporter": "python",
   "pygments_lexer": "ipython3",
   "version": "3.8.3"
  }
 },
 "nbformat": 4,
 "nbformat_minor": 5
}
