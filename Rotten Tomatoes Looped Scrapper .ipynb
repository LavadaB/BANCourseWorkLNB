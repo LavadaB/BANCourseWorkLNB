{
 "cells": [
  {
   "cell_type": "code",
   "execution_count": 1,
   "metadata": {},
   "outputs": [],
   "source": [
    "import pandas as pd\n",
    "\n",
    "from lxml import html\n",
    "from lxml import etree\n",
    "\n",
    "import requests\n",
    "import urllib3\n",
    "from cssselect import GenericTranslator\n",
    "from bs4 import BeautifulSoup"
   ]
  },
  {
   "cell_type": "code",
   "execution_count": 2,
   "metadata": {},
   "outputs": [],
   "source": [
    "####Critic Reviews Rotten Tomatoes\n",
    "def babayaga(movie):\n",
    "    #Function for scraping each page\n",
    "    rotten_name=[]\n",
    "    rotten_pub=[]\n",
    "    rotten_date=[]\n",
    "    rotten_score=[]\n",
    "    rotten_content=[]\n",
    "\n",
    "\n",
    "    def scrapethatpage(pagenumber):\n",
    "\n",
    "            website = 'https://www.rottentomatoes.com/m/'+ str(movie) +'/reviews?type=&sort=&page=' + str(pagenumber)\n",
    "\n",
    "            resp = requests.get(website)\n",
    "\n",
    "            tagtree = html.fromstring(resp.content)\n",
    "\n",
    "            #create xpath for critic names\n",
    "            name_xp = GenericTranslator().css_to_xpath('div.critic_name>a.articleLink')\n",
    "\n",
    "            name_xp = name_xp +'/text()'\n",
    "            rotten_name = tagtree.xpath(name_xp)\n",
    "            #rotten_name.append(rotten_name1)\n",
    "\n",
    "            #xpath for publication source\n",
    "            pub_xp = GenericTranslator().css_to_xpath('div.critic_name>a>em.critic-publication')\n",
    "\n",
    "            pub_xp = pub_xp +'/text()'\n",
    "            rotten_pub = tagtree.xpath(pub_xp)\n",
    "            #rotten_pub.append(rotten_pub1)\n",
    "\n",
    "            #xpath for review content\n",
    "            content_xp = GenericTranslator().css_to_xpath('div.the_review')\n",
    "\n",
    "            content_xp = content_xp +'/text()'\n",
    "            rotten_content = tagtree.xpath(content_xp)\n",
    "            #rotten_content.append(rotten_content1)\n",
    "\n",
    "            #xpath for review date\n",
    "            date_xp = GenericTranslator().css_to_xpath('div.review-date')\n",
    "\n",
    "            date_xp= date_xp +'/text()'\n",
    "            rotten_date = tagtree.xpath(date_xp)\n",
    "            #rotten_date.append(rotten_date1)\n",
    "            \n",
    "\n",
    "\n",
    "    #         #xpath for score\n",
    "    #         score_xp = GenericTranslator().css_to_xpath('div.review-link')\n",
    "\n",
    "    #         score_xp= score_xp +'/text()'\n",
    "    #         rotten_score = tagtree.xpath(score_xp)\n",
    "    #         #rotten_score.append(rotten_score1)    \n",
    "    #         #num+=1\n",
    "\n",
    "            jw3= (\n",
    "            {'name': rotten_name,\n",
    "            'publication': rotten_pub,\n",
    "            'date': rotten_date,\n",
    "            #'score': rotten_score,\n",
    "            'content': rotten_content})\n",
    "            jw3 = pd.DataFrame.from_dict(jw3, orient='index')\n",
    "            jw3_df = jw3.transpose()\n",
    "            return jw3_df\n",
    "\n",
    "    df = pd.DataFrame() \n",
    "    df = scrapethatpage(1)\n",
    "    otherdf = pd.DataFrame()\n",
    "    counter=2\n",
    "    while counter<18:\n",
    "        x=scrapethatpage(counter)\n",
    "        counter+=1\n",
    "        otherdf=otherdf.append(x,ignore_index=True)\n",
    "\n",
    "    #export dataframe to a csv\n",
    "    otherdf.to_csv('/Users/lavadablanton/Desktop/Individual Project/'+str(movie)+'_criticreviews.csv')\n",
    "    print(\"I have Spoken\")"
   ]
  },
  {
   "cell_type": "code",
   "execution_count": 12,
   "metadata": {},
   "outputs": [],
   "source": [
    "####Audience Reviews Rotten Tomatoes\n",
    "##This doesnt work\n",
    "def grogu(movie):\n",
    "    #Function for scraping each page\n",
    "    rotten_name=[]\n",
    "    rotten_pub=[]\n",
    "    rotten_date=[]\n",
    "    rotten_score=[]\n",
    "    rotten_content=[]\n",
    "\n",
    "\n",
    "    def scrapethatpage2(pagenumber2):\n",
    "\n",
    "            website = 'https://www.rottentomatoes.com/m/'+ str(movie) +'/reviews?type=user' + str(pagenumber2)\n",
    "\n",
    "            resp = requests.get(website)\n",
    "\n",
    "            tagtree = html.fromstring(resp.content)\n",
    "\n",
    "            #create xpath for critic names\n",
    "            name_xp_a = GenericTranslator().css_to_xpath('div.audience-reviews__name-wrap>a.audience-reviews__name')\n",
    "\n",
    "            name_xp_a = name_xp_a +'/text()'\n",
    "            rotten_name_audience = tagtree.xpath(name_xp_a)\n",
    "            #rotten_name.append(rotten_name1)\n",
    "\n",
    "            #xpath for review content\n",
    "            content_xp_a = GenericTranslator().css_to_xpath('div.audience-reviews__review-wrap>p.audience-reviews__review')\n",
    "\n",
    "            content_xp_a = content_xp_a +'/text()'\n",
    "            rotten_content_audience = tagtree.xpath(content_xp_a)\n",
    "            #rotten_content.append(rotten_content1)\n",
    "\n",
    "            jw3= (\n",
    "            {'name': rotten_name_audience,\n",
    "            'content': rotten_content_audience})\n",
    "            jw3 = pd.DataFrame.from_dict(jw3, orient='index')\n",
    "            jw3_df = jw3.transpose()\n",
    "            return jw3_df\n",
    "\n",
    "    df = pd.DataFrame() \n",
    "    df = scrapethatpage2(1)\n",
    "    otherdf = pd.DataFrame()\n",
    "    counter=2\n",
    "    while counter<18:\n",
    "        x=scrapethatpage2(counter)\n",
    "        counter+=1\n",
    "        otherdf=otherdf.append(x,ignore_index=True)\n",
    "\n",
    "    #export dataframe to a csv\n",
    "    otherdf.to_csv('/Users/lavadablanton/Desktop/Individual Project/'+str(movie)+'_audiencereviews.csv')\n",
    "    print(\"I have Spoken Audience\")"
   ]
  },
  {
   "cell_type": "code",
   "execution_count": 4,
   "metadata": {},
   "outputs": [],
   "source": [
    "def babayagatv(tv,season):\n",
    "    #Function for scraping each page\n",
    "    rotten_name=[]\n",
    "    rotten_pub=[]\n",
    "    rotten_date=[]\n",
    "    rotten_score=[]\n",
    "    rotten_content =[]\n",
    "\n",
    "\n",
    "    def scrapethatpage(pagenumber):\n",
    "\n",
    "            website = 'https://www.rottentomatoes.com/tv/'+ str(tv) +'/' +str(season)+'/reviews?type=&sort=&page=' \n",
    "            + str(pagenumber)\n",
    "\n",
    "            resp = requests.get(website)\n",
    "\n",
    "            tagtree = html.fromstring(resp.content)\n",
    "\n",
    "            #create xpath for critic names\n",
    "            name_xp = GenericTranslator().css_to_xpath('div.critic_name>a.articleLink')\n",
    "\n",
    "            name_xp = name_xp +'/text()'\n",
    "            rotten_name = tagtree.xpath(name_xp)\n",
    "            #rotten_name.append(rotten_name1)\n",
    "\n",
    "            #xpath for publication source\n",
    "            pub_xp = GenericTranslator().css_to_xpath('div.critic_name>a>em.critic__publication')\n",
    "\n",
    "            pub_xp = pub_xp +'/text()'\n",
    "            rotten_pub = tagtree.xpath(pub_xp)\n",
    "            #rotten_pub.append(rotten_pub1)\n",
    "\n",
    "            #xpath for review content\n",
    "            content_xp = GenericTranslator().css_to_xpath('div.critic_review-quote')\n",
    "\n",
    "            content_xp = content_xp +'/text()'\n",
    "            rotten_content = tagtree.xpath(content_xp)\n",
    "            #rotten_content.append(rotten_content1)\n",
    "\n",
    "            #xpath for review date\n",
    "            date_xp = GenericTranslator().css_to_xpath('div.critic_review-date')\n",
    "\n",
    "            date_xp= date_xp +'/text()'\n",
    "            rotten_date = tagtree.xpath(date_xp)\n",
    "            #rotten_date.append(rotten_date1)\n",
    "\n",
    "    #         #xpath for score\n",
    "    #         score_xp = GenericTranslator().css_to_xpath('div.review-link')\n",
    "\n",
    "    #         score_xp= score_xp +'/text()'\n",
    "    #         rotten_score = tagtree.xpath(score_xp)\n",
    "    #         #rotten_score.append(rotten_score1)    \n",
    "    #         #num+=1\n",
    "\n",
    "            jw3= (\n",
    "            {'name': rotten_name,\n",
    "            'publication': rotten_pub,\n",
    "            'date': rotten_date,\n",
    "            #'score': rotten_score,\n",
    "            'content': rotten_content})\n",
    "            jw3 = pd.DataFrame.from_dict(jw3, orient='index')\n",
    "            jw3_df = jw3.transpose()\n",
    "            return jw3_df\n",
    "\n",
    "    df = pd.DataFrame() \n",
    "    df = scrapethatpage(1)\n",
    "    otherdf = pd.DataFrame()\n",
    "    counter=2\n",
    "    while counter<18:\n",
    "        x=scrapethatpage(counter)\n",
    "        counter+=1\n",
    "        otherdf=otherdf.append(x,ignore_index=True)\n",
    "\n",
    "    #export dataframe to a csv\n",
    "    otherdf.to_csv('/Users/lavadablanton/Desktop/Individual Project/'+str(tv)+'.csv')\n",
    "    print(\"I have Spoken TV\")"
   ]
  },
  {
   "cell_type": "code",
   "execution_count": 5,
   "metadata": {},
   "outputs": [
    {
     "name": "stdout",
     "output_type": "stream",
     "text": [
      "I have Spoken\n"
     ]
    }
   ],
   "source": [
    "babayaga('john_wick_chapter_3_parabellum')"
   ]
  },
  {
   "cell_type": "code",
   "execution_count": 13,
   "metadata": {},
   "outputs": [
    {
     "name": "stdout",
     "output_type": "stream",
     "text": [
      "I have Spoken Audience\n"
     ]
    }
   ],
   "source": [
    "grogu('mulan_2020')"
   ]
  },
  {
   "cell_type": "code",
   "execution_count": 9,
   "metadata": {},
   "outputs": [
    {
     "name": "stdout",
     "output_type": "stream",
     "text": [
      "I have Spoken\n"
     ]
    }
   ],
   "source": [
    "babayaga('extraction_2020')"
   ]
  },
  {
   "cell_type": "code",
   "execution_count": 10,
   "metadata": {},
   "outputs": [
    {
     "name": "stdout",
     "output_type": "stream",
     "text": [
      "I have Spoken\n"
     ]
    }
   ],
   "source": [
    "babayaga('la_la_land')"
   ]
  },
  {
   "cell_type": "code",
   "execution_count": 11,
   "metadata": {},
   "outputs": [
    {
     "name": "stdout",
     "output_type": "stream",
     "text": [
      "I have Spoken\n"
     ]
    }
   ],
   "source": [
    "babayaga('the_conjuring_2')"
   ]
  },
  {
   "cell_type": "code",
   "execution_count": 12,
   "metadata": {},
   "outputs": [
    {
     "name": "stdout",
     "output_type": "stream",
     "text": [
      "I have Spoken\n"
     ]
    }
   ],
   "source": [
    "babayaga('the_lovebirds_2020')"
   ]
  },
  {
   "cell_type": "code",
   "execution_count": 13,
   "metadata": {},
   "outputs": [
    {
     "name": "stdout",
     "output_type": "stream",
     "text": [
      "I have Spoken\n"
     ]
    }
   ],
   "source": [
    "babayaga('mulan_2020')"
   ]
  },
  {
   "cell_type": "code",
   "execution_count": 14,
   "metadata": {},
   "outputs": [
    {
     "name": "stdout",
     "output_type": "stream",
     "text": [
      "I have Spoken\n"
     ]
    }
   ],
   "source": [
    "babayaga('aladdin')"
   ]
  },
  {
   "cell_type": "code",
   "execution_count": 15,
   "metadata": {},
   "outputs": [
    {
     "name": "stdout",
     "output_type": "stream",
     "text": [
      "I have Spoken\n"
     ]
    }
   ],
   "source": [
    "babayaga('geralds_game')"
   ]
  },
  {
   "cell_type": "code",
   "execution_count": 16,
   "metadata": {},
   "outputs": [
    {
     "name": "stdout",
     "output_type": "stream",
     "text": [
      "I have Spoken\n"
     ]
    }
   ],
   "source": [
    "babayaga('avengers_endgame')"
   ]
  },
  {
   "cell_type": "code",
   "execution_count": 17,
   "metadata": {},
   "outputs": [
    {
     "name": "stdout",
     "output_type": "stream",
     "text": [
      "I have Spoken\n"
     ]
    }
   ],
   "source": [
    "babayaga('shrek')"
   ]
  },
  {
   "cell_type": "code",
   "execution_count": 18,
   "metadata": {},
   "outputs": [
    {
     "name": "stdout",
     "output_type": "stream",
     "text": [
      "I have Spoken TV\n"
     ]
    }
   ],
   "source": [
    "babayagatv('the_boys_2019','s01')"
   ]
  },
  {
   "cell_type": "code",
   "execution_count": 25,
   "metadata": {},
   "outputs": [
    {
     "name": "stdout",
     "output_type": "stream",
     "text": [
      "I have Spoken\n"
     ]
    }
   ],
   "source": [
    "babayaga('ludo','streaming')"
   ]
  },
  {
   "cell_type": "code",
   "execution_count": 11,
   "metadata": {},
   "outputs": [
    {
     "name": "stdout",
     "output_type": "stream",
     "text": [
      "I have Spoken\n"
     ]
    }
   ],
   "source": [
    "babayaga('parasite_2019')"
   ]
  },
  {
   "cell_type": "code",
   "execution_count": 12,
   "metadata": {},
   "outputs": [
    {
     "name": "stdout",
     "output_type": "stream",
     "text": [
      "I have Spoken\n"
     ]
    }
   ],
   "source": [
    "babayaga('the_hustle_2019')"
   ]
  },
  {
   "cell_type": "code",
   "execution_count": 13,
   "metadata": {},
   "outputs": [
    {
     "name": "stdout",
     "output_type": "stream",
     "text": [
      "I have Spoken\n"
     ]
    }
   ],
   "source": [
    "babayaga('wonder_woman_2017')"
   ]
  },
  {
   "cell_type": "code",
   "execution_count": 16,
   "metadata": {},
   "outputs": [
    {
     "name": "stdout",
     "output_type": "stream",
     "text": [
      "I have Spoken\n"
     ]
    }
   ],
   "source": [
    "babayaga('the_old_guard')"
   ]
  },
  {
   "cell_type": "code",
   "execution_count": 17,
   "metadata": {},
   "outputs": [
    {
     "name": "stdout",
     "output_type": "stream",
     "text": [
      "I have Spoken\n"
     ]
    }
   ],
   "source": [
    "babayaga('atomic_blonde_2017')"
   ]
  },
  {
   "cell_type": "code",
   "execution_count": 18,
   "metadata": {},
   "outputs": [
    {
     "name": "stdout",
     "output_type": "stream",
     "text": [
      "I have Spoken\n"
     ]
    }
   ],
   "source": [
    "babayaga('artemis_fowl_2020')"
   ]
  },
  {
   "cell_type": "code",
   "execution_count": 4,
   "metadata": {},
   "outputs": [
    {
     "name": "stdout",
     "output_type": "stream",
     "text": [
      "I have Spoken\n"
     ]
    }
   ],
   "source": [
    "babayaga('bill_and_ted_face_the_music')"
   ]
  },
  {
   "cell_type": "code",
   "execution_count": null,
   "metadata": {},
   "outputs": [],
   "source": []
  }
 ],
 "metadata": {
  "kernelspec": {
   "display_name": "Python 3",
   "language": "python",
   "name": "python3"
  },
  "language_info": {
   "codemirror_mode": {
    "name": "ipython",
    "version": 3
   },
   "file_extension": ".py",
   "mimetype": "text/x-python",
   "name": "python",
   "nbconvert_exporter": "python",
   "pygments_lexer": "ipython3",
   "version": "3.8.3"
  }
 },
 "nbformat": 4,
 "nbformat_minor": 4
}
